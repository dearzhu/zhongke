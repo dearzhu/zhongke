{
 "cells": [
  {
   "cell_type": "code",
   "execution_count": 86,
   "metadata": {},
   "outputs": [],
   "source": [
    "import pandas as pd\n",
    "import numpy as np\n",
    "import pymysql as ps\n",
    "import re\n",
    "import xlrd\n",
    "\n",
    "\n",
    "db_host = 'localhost'\n",
    "db_user = 'root'\n",
    "db_pwd = '521521'\n",
    "db_name = 'sxzy'\n",
    "char_type = 'utf-8'\n",
    "db = ps.connect(db_host, db_user, db_pwd, db_name, charset='utf8')\n",
    "couser = db.cursor()"
   ]
  },
  {
   "cell_type": "code",
   "execution_count": 87,
   "metadata": {},
   "outputs": [],
   "source": [
    "# 获取交易卡号信息\n",
    "sql='select distinct  cxkh,cxzh,jymc,jydfzkh,jydfmc from gas_bank_records'\n",
    "couser.execute(sql)\n",
    "rows = couser.fetchall()"
   ]
  },
  {
   "cell_type": "code",
   "execution_count": 88,
   "metadata": {},
   "outputs": [],
   "source": [
    "df_account=pd.DataFrame(rows,columns=['cxkh','cxzh','jymc','jydfzkh','jydfmc'])"
   ]
  },
  {
   "cell_type": "code",
   "execution_count": 89,
   "metadata": {},
   "outputs": [
    {
     "data": {
      "text/html": [
       "<div>\n",
       "<style scoped>\n",
       "    .dataframe tbody tr th:only-of-type {\n",
       "        vertical-align: middle;\n",
       "    }\n",
       "\n",
       "    .dataframe tbody tr th {\n",
       "        vertical-align: top;\n",
       "    }\n",
       "\n",
       "    .dataframe thead th {\n",
       "        text-align: right;\n",
       "    }\n",
       "</style>\n",
       "<table border=\"1\" class=\"dataframe\">\n",
       "  <thead>\n",
       "    <tr style=\"text-align: right;\">\n",
       "      <th></th>\n",
       "      <th>jymc</th>\n",
       "      <th>cxkh</th>\n",
       "    </tr>\n",
       "  </thead>\n",
       "  <tbody>\n",
       "    <tr>\n",
       "      <th>0</th>\n",
       "      <td>杨建进</td>\n",
       "      <td>6222080509000555448</td>\n",
       "    </tr>\n",
       "    <tr>\n",
       "      <th>1</th>\n",
       "      <td>刘兵</td>\n",
       "      <td>6222020509007272982</td>\n",
       "    </tr>\n",
       "    <tr>\n",
       "      <th>5</th>\n",
       "      <td>闫二伟</td>\n",
       "      <td>509256801204024445</td>\n",
       "    </tr>\n",
       "    <tr>\n",
       "      <th>14</th>\n",
       "      <td>高明明</td>\n",
       "      <td>6212880509000119818</td>\n",
       "    </tr>\n",
       "    <tr>\n",
       "      <th>29</th>\n",
       "      <td>刘爱萍</td>\n",
       "      <td>6222080509000160017</td>\n",
       "    </tr>\n",
       "  </tbody>\n",
       "</table>\n",
       "</div>"
      ],
      "text/plain": [
       "   jymc                 cxkh\n",
       "0   杨建进  6222080509000555448\n",
       "1    刘兵  6222020509007272982\n",
       "5   闫二伟   509256801204024445\n",
       "14  高明明  6212880509000119818\n",
       "29  刘爱萍  6222080509000160017"
      ]
     },
     "execution_count": 89,
     "metadata": {},
     "output_type": "execute_result"
    }
   ],
   "source": [
    "# 交易方账号信息\n",
    "df_jy_account=df_account[['jymc','cxkh']].drop_duplicates()\n",
    "df_jy_account.head()"
   ]
  },
  {
   "cell_type": "code",
   "execution_count": 90,
   "metadata": {},
   "outputs": [],
   "source": [
    "#交易对方账号信息\n",
    "df_jydf_account=df_account[['jydfmc','jydfzkh']].drop_duplicates()\n",
    "df_jydf_account.head()\n",
    "df_jydf_account.columns=['jymc','cxkh']"
   ]
  },
  {
   "cell_type": "code",
   "execution_count": 91,
   "metadata": {},
   "outputs": [
    {
     "data": {
      "text/html": [
       "<div>\n",
       "<style scoped>\n",
       "    .dataframe tbody tr th:only-of-type {\n",
       "        vertical-align: middle;\n",
       "    }\n",
       "\n",
       "    .dataframe tbody tr th {\n",
       "        vertical-align: top;\n",
       "    }\n",
       "\n",
       "    .dataframe thead th {\n",
       "        text-align: right;\n",
       "    }\n",
       "</style>\n",
       "<table border=\"1\" class=\"dataframe\">\n",
       "  <thead>\n",
       "    <tr style=\"text-align: right;\">\n",
       "      <th></th>\n",
       "      <th>jymc</th>\n",
       "      <th>cxkh</th>\n",
       "    </tr>\n",
       "  </thead>\n",
       "  <tbody>\n",
       "    <tr>\n",
       "      <th>0</th>\n",
       "      <td>杨建进</td>\n",
       "      <td>6222080509000555448</td>\n",
       "    </tr>\n",
       "    <tr>\n",
       "      <th>1</th>\n",
       "      <td>刘兵</td>\n",
       "      <td>6222020509007272982</td>\n",
       "    </tr>\n",
       "    <tr>\n",
       "      <th>5</th>\n",
       "      <td>闫二伟</td>\n",
       "      <td>509256801204024445</td>\n",
       "    </tr>\n",
       "    <tr>\n",
       "      <th>14</th>\n",
       "      <td>高明明</td>\n",
       "      <td>6212880509000119818</td>\n",
       "    </tr>\n",
       "    <tr>\n",
       "      <th>29</th>\n",
       "      <td>刘爱萍</td>\n",
       "      <td>6222080509000160017</td>\n",
       "    </tr>\n",
       "  </tbody>\n",
       "</table>\n",
       "</div>"
      ],
      "text/plain": [
       "   jymc                 cxkh\n",
       "0   杨建进  6222080509000555448\n",
       "1    刘兵  6222020509007272982\n",
       "5   闫二伟   509256801204024445\n",
       "14  高明明  6212880509000119818\n",
       "29  刘爱萍  6222080509000160017"
      ]
     },
     "execution_count": 91,
     "metadata": {},
     "output_type": "execute_result"
    }
   ],
   "source": [
    "#总的交易账号信息 已调单+未调单\n",
    "df_account_fin=pd.concat([df_jy_account,df_jydf_account],axis=0).drop_duplicates()\n",
    "df_account_fin.head()"
   ]
  },
  {
   "cell_type": "code",
   "execution_count": 92,
   "metadata": {},
   "outputs": [],
   "source": [
    "#获取嫌疑人姓名\n",
    "sql_relactives='select jymc from relatives'\n",
    "couser.execute(sql_relactives)\n",
    "rows = couser.fetchall()\n",
    "relatives_list=[i[0] for i in rows]\n"
   ]
  },
  {
   "cell_type": "code",
   "execution_count": 93,
   "metadata": {},
   "outputs": [
    {
     "data": {
      "text/plain": [
       "78"
      ]
     },
     "execution_count": 93,
     "metadata": {},
     "output_type": "execute_result"
    }
   ],
   "source": [
    "len(relatives_list)"
   ]
  },
  {
   "cell_type": "code",
   "execution_count": 94,
   "metadata": {},
   "outputs": [],
   "source": [
    "#获取嫌疑人的所有账号信息\n",
    "df_diaodan=df_account_fin[df_account_fin['jymc'].isin(relatives_list)]\n",
    "cxkh_list=np.array(df_jy_account['cxkh'])\n",
    "# 判断嫌疑人的账号是否调单\n",
    "df_diaodan['y_n_diaodan']=df_diaodan['cxkh'].apply(lambda x : '已调单' if x in cxkh_list else '未调单')"
   ]
  },
  {
   "cell_type": "code",
   "execution_count": 95,
   "metadata": {},
   "outputs": [],
   "source": [
    "# df_diaodan.columns=['交易名称','交易卡号','是否调单']\n",
    "# df_diaodan.to_excel('c:/Users/jxh/Desktop/嫌疑人及其亲属调单情况.xlsx',index=False,encoding='utf-8')"
   ]
  },
  {
   "cell_type": "code",
   "execution_count": 97,
   "metadata": {},
   "outputs": [
    {
     "data": {
      "text/html": [
       "<div>\n",
       "<style scoped>\n",
       "    .dataframe tbody tr th:only-of-type {\n",
       "        vertical-align: middle;\n",
       "    }\n",
       "\n",
       "    .dataframe tbody tr th {\n",
       "        vertical-align: top;\n",
       "    }\n",
       "\n",
       "    .dataframe thead th {\n",
       "        text-align: right;\n",
       "    }\n",
       "</style>\n",
       "<table border=\"1\" class=\"dataframe\">\n",
       "  <thead>\n",
       "    <tr style=\"text-align: right;\">\n",
       "      <th></th>\n",
       "      <th>jymc</th>\n",
       "      <th>cxkh</th>\n",
       "      <th>y_n_diaodan</th>\n",
       "    </tr>\n",
       "  </thead>\n",
       "  <tbody>\n",
       "    <tr>\n",
       "      <th>0</th>\n",
       "      <td>杨建进</td>\n",
       "      <td>6222080509000555448</td>\n",
       "      <td>已调单</td>\n",
       "    </tr>\n",
       "    <tr>\n",
       "      <th>5</th>\n",
       "      <td>闫二伟</td>\n",
       "      <td>509256801204024445</td>\n",
       "      <td>已调单</td>\n",
       "    </tr>\n",
       "    <tr>\n",
       "      <th>29</th>\n",
       "      <td>刘爱萍</td>\n",
       "      <td>6222080509000160017</td>\n",
       "      <td>已调单</td>\n",
       "    </tr>\n",
       "    <tr>\n",
       "      <th>40</th>\n",
       "      <td>刘爱萍</td>\n",
       "      <td>509256801202254682</td>\n",
       "      <td>已调单</td>\n",
       "    </tr>\n",
       "    <tr>\n",
       "      <th>95</th>\n",
       "      <td>崔新平</td>\n",
       "      <td>509256801202467393</td>\n",
       "      <td>已调单</td>\n",
       "    </tr>\n",
       "    <tr>\n",
       "      <th>...</th>\n",
       "      <td>...</td>\n",
       "      <td>...</td>\n",
       "      <td>...</td>\n",
       "    </tr>\n",
       "    <tr>\n",
       "      <th>138900</th>\n",
       "      <td>吕梁市建筑安装总公司第四工程处</td>\n",
       "      <td>553281010300000004015</td>\n",
       "      <td>未调单</td>\n",
       "    </tr>\n",
       "    <tr>\n",
       "      <th>138902</th>\n",
       "      <td>吕梁市建筑安装总公司第四工程处</td>\n",
       "      <td>692138560</td>\n",
       "      <td>未调单</td>\n",
       "    </tr>\n",
       "    <tr>\n",
       "      <th>138904</th>\n",
       "      <td>吕梁市建筑安装总公司第四工程处</td>\n",
       "      <td>543000001018010684167</td>\n",
       "      <td>未调单</td>\n",
       "    </tr>\n",
       "    <tr>\n",
       "      <th>138962</th>\n",
       "      <td>吕梁市建筑安装总公司第四工程处</td>\n",
       "      <td>144225733185</td>\n",
       "      <td>未调单</td>\n",
       "    </tr>\n",
       "    <tr>\n",
       "      <th>139108</th>\n",
       "      <td>崔新平</td>\n",
       "      <td>6.212805530000269e+18</td>\n",
       "      <td>未调单</td>\n",
       "    </tr>\n",
       "  </tbody>\n",
       "</table>\n",
       "<p>478 rows × 3 columns</p>\n",
       "</div>"
      ],
      "text/plain": [
       "                   jymc                   cxkh y_n_diaodan\n",
       "0                   杨建进    6222080509000555448         已调单\n",
       "5                   闫二伟     509256801204024445         已调单\n",
       "29                  刘爱萍    6222080509000160017         已调单\n",
       "40                  刘爱萍     509256801202254682         已调单\n",
       "95                  崔新平     509256801202467393         已调单\n",
       "...                 ...                    ...         ...\n",
       "138900  吕梁市建筑安装总公司第四工程处  553281010300000004015         未调单\n",
       "138902  吕梁市建筑安装总公司第四工程处              692138560         未调单\n",
       "138904  吕梁市建筑安装总公司第四工程处  543000001018010684167         未调单\n",
       "138962  吕梁市建筑安装总公司第四工程处           144225733185         未调单\n",
       "139108              崔新平  6.212805530000269e+18         未调单\n",
       "\n",
       "[478 rows x 3 columns]"
      ]
     },
     "execution_count": 97,
     "metadata": {},
     "output_type": "execute_result"
    }
   ],
   "source": [
    "df_diaodan"
   ]
  },
  {
   "cell_type": "code",
   "execution_count": null,
   "metadata": {},
   "outputs": [],
   "source": []
  },
  {
   "cell_type": "code",
   "execution_count": 66,
   "metadata": {},
   "outputs": [],
   "source": []
  },
  {
   "cell_type": "code",
   "execution_count": null,
   "metadata": {},
   "outputs": [],
   "source": []
  },
  {
   "cell_type": "code",
   "execution_count": 98,
   "metadata": {},
   "outputs": [],
   "source": [
    "# 非嫌疑人情况\n",
    "fxyr_list=['高明明','崔爱明','吴晓虎','孟庆冬','乔和平','乔秀秀','陈月娥']"
   ]
  },
  {
   "cell_type": "code",
   "execution_count": 101,
   "metadata": {},
   "outputs": [
    {
     "name": "stderr",
     "output_type": "stream",
     "text": [
      "D:\\develop\\anaconda\\lib\\site-packages\\ipykernel_launcher.py:3: SettingWithCopyWarning: \n",
      "A value is trying to be set on a copy of a slice from a DataFrame.\n",
      "Try using .loc[row_indexer,col_indexer] = value instead\n",
      "\n",
      "See the caveats in the documentation: https://pandas.pydata.org/pandas-docs/stable/user_guide/indexing.html#returning-a-view-versus-a-copy\n",
      "  This is separate from the ipykernel package so we can avoid doing imports until\n"
     ]
    }
   ],
   "source": [
    "# 判断所有账单中的非嫌疑人的账号明细\n",
    "df_fei_diaodan=df_account_fin[df_account_fin['jymc'].isin(fxyr_list)]\n",
    "cxkh_list=np.array(df_jy_account['cxkh'])\n",
    "# 判断所有账单中的非嫌疑人的调单明细\n",
    "df_fei_diaodan['y_n_diaodan']=df_fei_diaodan['cxkh'].apply(lambda x : '已调单' if x in cxkh_list else '未调单')\n",
    "df_fei_diaodan.columns=['交易名称','交易卡号','是否调单']"
   ]
  },
  {
   "cell_type": "code",
   "execution_count": 103,
   "metadata": {},
   "outputs": [],
   "source": [
    "df_fei_diaodan.to_excel('c:/Users/jxh/Desktop/非嫌疑人调单情况.xlsx',index=False,encoding='utf-8')"
   ]
  }
 ],
 "metadata": {
  "kernelspec": {
   "display_name": "Python 3",
   "language": "python",
   "name": "python3"
  },
  "language_info": {
   "codemirror_mode": {
    "name": "ipython",
    "version": 3
   },
   "file_extension": ".py",
   "mimetype": "text/x-python",
   "name": "python",
   "nbconvert_exporter": "python",
   "pygments_lexer": "ipython3",
   "version": "3.7.6"
  }
 },
 "nbformat": 4,
 "nbformat_minor": 4
}
