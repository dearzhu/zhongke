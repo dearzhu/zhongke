{
 "cells": [
  {
   "cell_type": "markdown",
   "metadata": {},
   "source": [
    "# 清洗数据"
   ]
  },
  {
   "cell_type": "code",
   "execution_count": 1,
   "metadata": {},
   "outputs": [],
   "source": [
    "import pandas as pd\n",
    "import numpy as np\n",
    "import os\n",
    "# path=r\"D:\\案件\\山西吕梁网赌\\洗钱卡流水\"\n",
    "# file_path=[path+'\\\\'+i for i in os.listdir(path)]\n",
    "# file_path2=[i for i in file_path if '$' not in i ]\n",
    "# file_path2,len(file_path2)\n",
    "\n",
    "# df_list=[]\n",
    "# for file_p in file_path2:\n",
    "#     print(file_p)\n",
    "#     df=pd.read_excel(file_p ,sheet_name='Sheet1',encoding='utf-8',dtype=object)\n",
    "#     df['交易户名']=file_p.split('\\\\')[4]\n",
    "#     print(len(df.columns))\n",
    "#     df_list.append(df)\n",
    "# df=pd.concat(df_list,axis=0)\n",
    "# df.shape\n",
    "# df.to_excel(path+\"\\\\\"+'洗钱卡汇总.xlsx',index=False,encoding='utf-8')"
   ]
  },
  {
   "cell_type": "markdown",
   "metadata": {},
   "source": [
    "## 资金分析"
   ]
  },
  {
   "cell_type": "code",
   "execution_count": 2,
   "metadata": {},
   "outputs": [],
   "source": [
    "import pymysql as ps\n",
    "#链接数据库\n",
    "db_host = 'localhost'\n",
    "db_user = 'root'\n",
    "db_pwd = '521521'\n",
    "db_name = 'sxllwd'\n",
    "char_type = 'utf-8'\n",
    "db = ps.connect(db_host, db_user, db_pwd, db_name, charset='utf8')\n",
    "couser = db.cursor()"
   ]
  },
  {
   "cell_type": "code",
   "execution_count": 3,
   "metadata": {},
   "outputs": [],
   "source": [
    "# 获取交易卡号信息\n",
    "sql='select * from gas_bank_records  '\n",
    "couser.execute(sql)\n",
    "rows = couser.fetchall()\n",
    "des = couser.description\n",
    "#获取字段名称\n",
    "column_name= [item[0] for item in des]\n",
    "column_name\n",
    "\n",
    "df=pd.DataFrame(rows,columns=column_name)"
   ]
  },
  {
   "cell_type": "code",
   "execution_count": 4,
   "metadata": {},
   "outputs": [],
   "source": [
    "df['jyje']=pd.to_numeric(df['jyje'])\n",
    "df['jyye']=pd.to_numeric(df['jyye'])\n",
    "df_select=df[['cxkh','jymc','jdbz','jysj','jyje','jyye','jydfmc','jydfzkh','beiz','zysm']]\n"
   ]
  },
  {
   "cell_type": "code",
   "execution_count": 5,
   "metadata": {},
   "outputs": [
    {
     "name": "stdout",
     "output_type": "stream",
     "text": [
      "调集人员主体数量:70 ,调集账号数量:89 ,交易总金额:5624265047.9交易总次数:450116,进账金额:2805301583.27 ,进账次数:192767 , 出账金额:2818963464.63, 出账次数:257349 ,进出账差额:13661881.360000134\n"
     ]
    }
   ],
   "source": [
    "#调集数据信息\n",
    "print('调集人员主体数量:{} ,调集账号数量:{} ,交易总金额:{}交易总次数:{},进账金额:{} ,进账次数:{} , 出账金额:{}, 出账次数:{} ,进出账差额:{}'.format(len(df_select['jymc'].unique()),len(df_select['cxkh'].unique()),df_select['jyje'].sum(),len(df_select['cxkh']),df_select[df_select['jdbz']=='进'].jyje.sum(),df_select[df_select['jdbz']=='进'].shape[0],df_select[df_select['jdbz']=='出'].jyje.sum(),df_select[df_select['jdbz']=='出'].shape[0],df_select[df_select['jdbz']=='出'].jyje.sum()-df_select[df_select['jdbz']=='进'].jyje.sum()))"
   ]
  },
  {
   "cell_type": "code",
   "execution_count": 6,
   "metadata": {},
   "outputs": [
    {
     "name": "stderr",
     "output_type": "stream",
     "text": [
      "D:\\develop\\anaconda\\lib\\site-packages\\ipykernel_launcher.py:11: SettingWithCopyWarning: \n",
      "A value is trying to be set on a copy of a slice from a DataFrame.\n",
      "Try using .loc[row_indexer,col_indexer] = value instead\n",
      "\n",
      "See the caveats in the documentation: https://pandas.pydata.org/pandas-docs/stable/user_guide/indexing.html#returning-a-view-versus-a-copy\n",
      "  # This is added back by InteractiveShellApp.init_path()\n",
      "D:\\develop\\anaconda\\lib\\site-packages\\ipykernel_launcher.py:12: SettingWithCopyWarning: \n",
      "A value is trying to be set on a copy of a slice from a DataFrame.\n",
      "Try using .loc[row_indexer,col_indexer] = value instead\n",
      "\n",
      "See the caveats in the documentation: https://pandas.pydata.org/pandas-docs/stable/user_guide/indexing.html#returning-a-view-versus-a-copy\n",
      "  if sys.path[0] == '':\n",
      "D:\\develop\\anaconda\\lib\\site-packages\\ipykernel_launcher.py:13: SettingWithCopyWarning: \n",
      "A value is trying to be set on a copy of a slice from a DataFrame.\n",
      "Try using .loc[row_indexer,col_indexer] = value instead\n",
      "\n",
      "See the caveats in the documentation: https://pandas.pydata.org/pandas-docs/stable/user_guide/indexing.html#returning-a-view-versus-a-copy\n",
      "  del sys.path[0]\n",
      "D:\\develop\\anaconda\\lib\\site-packages\\ipykernel_launcher.py:14: SettingWithCopyWarning: \n",
      "A value is trying to be set on a copy of a slice from a DataFrame.\n",
      "Try using .loc[row_indexer,col_indexer] = value instead\n",
      "\n",
      "See the caveats in the documentation: https://pandas.pydata.org/pandas-docs/stable/user_guide/indexing.html#returning-a-view-versus-a-copy\n",
      "  \n"
     ]
    }
   ],
   "source": [
    "def jcz_je(row,str1):\n",
    "    if row['jdbz']==str1:\n",
    "        return row['jyje']\n",
    "    else:\n",
    "        return 0\n",
    "def jcz_cs(row,str1):\n",
    "    if row['jdbz']==str1:\n",
    "        return 1\n",
    "    else:\n",
    "        return 0 \n",
    "df_select['jzje']=df_select.apply(lambda x: jcz_je(x,'进'),axis=1)\n",
    "df_select['jzcs']=df_select.apply(lambda x: jcz_cs(x,'进'),axis=1)\n",
    "df_select['czje']=df_select.apply(lambda x: jcz_je(x,'出'),axis=1)\n",
    "df_select['czcs']=df_select.apply(lambda x: jcz_cs(x,'出'),axis=1)"
   ]
  },
  {
   "cell_type": "markdown",
   "metadata": {},
   "source": [
    "####  银行卡交易数据"
   ]
  },
  {
   "cell_type": "code",
   "execution_count": 42,
   "metadata": {},
   "outputs": [],
   "source": [
    "df_cxkh=pd.pivot_table(df_select,index=['cxkh','jymc'],aggfunc={'jyje':[sum,len],'czje':sum,'czcs':sum,'jzje':sum,'jzcs':sum,'jysj':[min,max]}).reset_index()\n",
    "df_cxkh.columns=[i+\"_\"+j for  i,j in df_cxkh.columns]\n",
    "df_cxkh['jczce']=df_cxkh['czje_sum']-df_cxkh['jzje_sum']\n",
    "df_cxkh=df_cxkh[['cxkh_', 'jymc_', 'jyje_sum','jyje_len', 'czje_sum','czcs_sum',   'jzje_sum', 'jzcs_sum','jczce','jysj_min','jysj_max']].sort_values('jyje_sum',ascending=False)\n",
    "df_cxkh.columns=['交易卡号','交易名称','交易总金额','交易总次数','出账金额','出账次数','进账金额','进账次数','进出账差额','最早交易时间','最晚交易时间']\n",
    "df_cxkh.to_excel('c:/Users/jxh/Desktop/吕梁网赌输出/附件二：调集银行卡资金进出情况.xlsx',index=False,encoding='utf-8')\n"
   ]
  },
  {
   "cell_type": "markdown",
   "metadata": {},
   "source": [
    "#### 调集人员交易数据"
   ]
  },
  {
   "cell_type": "code",
   "execution_count": 41,
   "metadata": {},
   "outputs": [],
   "source": [
    "df_jymc=pd.pivot_table(df_select,index=['jymc'],aggfunc={'cxkh':lambda x :len(x.unique()),'jyje':[sum,len],'czje':sum,'czcs':sum,'jzje':sum,'jzcs':sum}).reset_index()\n",
    "df_jymc.columns=[i+'_'+j for i ,j in df_jymc.columns]\n",
    "df_jymc=df_jymc[['jymc_', 'cxkh_<lambda>','jyje_sum', 'jyje_len', 'czcs_sum', 'czje_sum', 'jzje_sum','jzcs_sum']].sort_values('jyje_sum',ascending=False)\n",
    "df_jymc.columns=['交易名称', '调集银行卡数量','交易总金额', '交易总次数', '出账金额', '出账次数', '进账金额', '进账次数']\n",
    "df_jymc.to_excel('c:/Users/jxh/Desktop/吕梁网赌输出/附件三：调集人员资金进出情况.xlsx',index=False,encoding='utf-8')\n"
   ]
  },
  {
   "cell_type": "markdown",
   "metadata": {},
   "source": [
    "#### 最大获利对手数据统计"
   ]
  },
  {
   "cell_type": "code",
   "execution_count": 162,
   "metadata": {},
   "outputs": [],
   "source": [
    "df_get_balance=pd.pivot_table(df_select,index=['jydfzkh','jydfmc'],aggfunc={'czje':sum,'czcs':sum,'jzje':sum,'jzcs':sum,'jysj':[max,min]}).reset_index()\n",
    "df_get_balance.columns=[i+'_'+j for i ,j in  df_get_balance.columns]\n",
    "df_get_balance=df_get_balance[['jydfzkh_', 'jydfmc_', 'czcs_sum', 'czje_sum','jzcs_sum', 'jzje_sum', 'jysj_max', 'jysj_min']]\n",
    "df_get_balance['jczce']=df_get_balance['czje_sum']-df_get_balance['jzje_sum']\n",
    "df_get_balance=df_get_balance.sort_values('jczce',ascending=False)\n",
    "df_get_balance.columns=['对手卡号','对手名称','流入笔数','流入金额','流出笔数','流出金额','最晚一次交易时间','最早一次交易时间','进出帐差额']\n",
    "df_get_balance.to_excel('c:/Users/jxh/Desktop/吕梁网赌输出/附件五：最大获利对手.xlsx',index=False,encoding='utf-8')"
   ]
  },
  {
   "cell_type": "markdown",
   "metadata": {},
   "source": [
    "#### 密切联系对手账号分析"
   ]
  },
  {
   "cell_type": "code",
   "execution_count": 81,
   "metadata": {},
   "outputs": [],
   "source": [
    "df_get_jydf=pd.pivot_table(df_select,index=['jydfzkh','jydfmc'],aggfunc={'jymc': lambda x:len(x.unique())}).reset_index()\n",
    "df_get_jydf=df_get_jydf.sort_values('jymc',ascending=False)\n",
    "df_get_jydf.columns=['交易对手卡号','交易对手名称','关联调集人员']\n",
    "df_get_jydf.to_excel('c:/Users/jxh/Desktop/吕梁网赌输出/附件四：密切联系对手账号分析.xlsx',index=False,encoding='utf-8')"
   ]
  },
  {
   "cell_type": "markdown",
   "metadata": {},
   "source": [
    "#### 资金净流向问题"
   ]
  },
  {
   "cell_type": "code",
   "execution_count": 95,
   "metadata": {},
   "outputs": [],
   "source": [
    "df_tongji=pd.pivot_table(df_select,index=['cxkh','jymc','jydfzkh','jydfmc'],aggfunc={'jyje':[sum,len],'czje':sum,'czcs':sum,'jzje':sum,'jzcs':sum,'jysj':[max,min]}).reset_index()\n",
    "df_tongji.columns=[i+'_'+j for i,j in df_tongji.columns]\n",
    "df_tongji=df_tongji[['cxkh_', 'jymc_', 'jydfzkh_', 'jydfmc_', 'jyje_sum', 'jyje_len','czje_sum','czcs_sum', 'jzje_sum', 'jzcs_sum',  'jysj_max', 'jysj_min']].sort_values('jyje_sum',ascending=False)\n",
    "df_tongji['jczce']=df_tongji['czje_sum']-df_tongji['jzje_sum']\n",
    "\n",
    "df_tongji.columns=['交易卡号', '交易名称', '交易对方账卡号', '交易对方名称', '交易总金额', '交易总次数','出账金额', '出账次数', '进账金额', '进账次数', '最晚一次交易时间', '最早一次交易时间','进出账差额']\n",
    "df_tongji.to_excel('c:/Users/jxh/Desktop/吕梁网赌输出/附件六：整体交易数据统计汇总.xlsx',index=False,encoding='utf-8')"
   ]
  },
  {
   "cell_type": "code",
   "execution_count": 100,
   "metadata": {},
   "outputs": [],
   "source": [
    "df_tongji.columns=['cxkh_', 'jymc_', 'jydfzkh_', 'jydfmc_', 'jyje_sum', 'jyje_len','czje_sum','czcs_sum', 'jzje_sum', 'jzcs_sum',  'jysj_max', 'jysj_min','jczce']\n",
    "ydkh=set(df_select.cxkh)\n",
    "df_tongji_100w=df_tongji[(df_tongji['jyje_sum']>1000000)  &(df_tongji['jczce']>0)]\n",
    "df_tongji_100w\n",
    "#判断第二层是否调单\n",
    "df_tongji_100w['y_n_dd']=df_tongji_100w['jydfzkh_'].apply(lambda x: 'Y' if x in ydkh else 'N')\n",
    "\n"
   ]
  },
  {
   "cell_type": "markdown",
   "metadata": {},
   "source": [
    "## 调单梳理，根据最大获利对手"
   ]
  },
  {
   "cell_type": "code",
   "execution_count": 163,
   "metadata": {},
   "outputs": [],
   "source": [
    "ydkh=set(df_select.cxkh)\n",
    "\n",
    "df_get_balance.columns=['jydfzkh_', 'jydfmc_', 'czcs_sum', 'czje_sum','jzcs_sum', 'jzje_sum', 'jysj_max', 'jysj_min','jczce']\n",
    "df_get_balance['y_n_dd']=df_get_balance['jydfzkh_'].apply(lambda x: 'Y' if x in ydkh else 'N')\n"
   ]
  },
  {
   "cell_type": "code",
   "execution_count": 183,
   "metadata": {},
   "outputs": [],
   "source": [
    "df_get_balance_100w_wei=df_get_balance[(df_get_balance['jczce']>1000000) & (df_get_balance['y_n_dd']=='N')]\n",
    "df_get_balance_100w_yi=df_get_balance[(df_get_balance['jczce']>1000000) & (df_get_balance['y_n_dd']=='Y')]"
   ]
  },
  {
   "cell_type": "code",
   "execution_count": 185,
   "metadata": {},
   "outputs": [],
   "source": [
    "df_two=pd.merge(df_get_balance_100w_yi,df_tongji,left_on='jydfzkh_',right_on='cxkh_',how='left')"
   ]
  },
  {
   "cell_type": "code",
   "execution_count": 192,
   "metadata": {},
   "outputs": [],
   "source": [
    "writer=pd.ExcelWriter(\"c:/Users/jxh/Desktop/吕梁网赌输出/附件八调单数据.xlsx\")\n",
    "df_get_balance_100w_wei.to_excel(writer,sheet_name='二层未调单数据梳理',index=False,encoding='utf-8')\n",
    "df_two.to_excel(writer,sheet_name='二层调单数据梳理',index=False,encoding='utf-8')\n",
    "writer.save()\n",
    "writer.close()\n",
    "\n"
   ]
  },
  {
   "cell_type": "code",
   "execution_count": 196,
   "metadata": {},
   "outputs": [
    {
     "data": {
      "text/plain": [
       "(156, 10)"
      ]
     },
     "execution_count": 196,
     "metadata": {},
     "output_type": "execute_result"
    }
   ],
   "source": [
    "df_get_balance[(df_get_balance['jczce']>1000000) & (df_get_balance['y_n_dd']=='N')].shape"
   ]
  },
  {
   "cell_type": "code",
   "execution_count": 145,
   "metadata": {},
   "outputs": [
    {
     "data": {
      "text/plain": [
       "205"
      ]
     },
     "execution_count": 145,
     "metadata": {},
     "output_type": "execute_result"
    }
   ],
   "source": [
    "writer=pd.ExcelWriter(\"'c:/Users/jxh/Desktop/吕梁网赌输出/附件八：调单数据.xlsx\",index=False,encoding='utf-8')\n",
    "df_tongji_100w.to_excel(writer,sheet_name='二层未调单数据梳理')\n",
    "\n"
   ]
  }
 ],
 "metadata": {
  "kernelspec": {
   "display_name": "Python 3",
   "language": "python",
   "name": "python3"
  },
  "language_info": {
   "codemirror_mode": {
    "name": "ipython",
    "version": 3
   },
   "file_extension": ".py",
   "mimetype": "text/x-python",
   "name": "python",
   "nbconvert_exporter": "python",
   "pygments_lexer": "ipython3",
   "version": "3.7.6"
  }
 },
 "nbformat": 4,
 "nbformat_minor": 4
}
