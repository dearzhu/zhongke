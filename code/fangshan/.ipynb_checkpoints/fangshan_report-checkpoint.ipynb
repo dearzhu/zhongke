{
 "cells": [
  {
   "cell_type": "code",
   "execution_count": 1,
   "metadata": {},
   "outputs": [],
   "source": [
    "import pymysql as ps\n",
    "import re\n",
    "import xlrd\n",
    "import pandas as pd\n",
    "import numpy as np\n",
    "#连接数据库\n",
    "db_host = 'localhost'\n",
    "db_user = 'root'\n",
    "db_pwd = '521521'\n",
    "db_name = 'sxllfs'\n",
    "char_type = 'utf-8'\n",
    "db = ps.connect(db_host, db_user, db_pwd, db_name, charset='utf8')\n",
    "couser = db.cursor()\n",
    "# 获取嫌疑人名单\n",
    "sql='select distinct cxkh,jymc,jdbz,jysj,jyje,jyye,jydfzkh,jydfmc from gas_bank_records where jydfmc !=\"nan\"'\n",
    "couser.execute(sql)\n",
    "rows = couser.fetchall()\n",
    "jymc_list=[i[0] for i in rows]\n",
    "couser.execute(sql)\n",
    "rows = couser.fetchall()\n",
    "\n",
    "df_columns=['cxkh','jymc','jdbz','jysj','jyje','jyye','jydfzkh','jydfmc']\n",
    "df=pd.DataFrame(np.array(rows),columns=df_columns)\n",
    "df['jyje']=df['jyje'].astype(str).astype(float)"
   ]
  },
  {
   "cell_type": "code",
   "execution_count": 2,
   "metadata": {},
   "outputs": [],
   "source": [
    "df=df.drop_duplicates()"
   ]
  },
  {
   "cell_type": "code",
   "execution_count": 3,
   "metadata": {},
   "outputs": [],
   "source": [
    "df['jymc']=df['jymc'].fillna('nan')"
   ]
  },
  {
   "cell_type": "code",
   "execution_count": 4,
   "metadata": {},
   "outputs": [],
   "source": [
    "select_jymc=['中阳县中亘混凝土搅拌站','刘桂材','刘子通','朱耀峰','刘文平','刘艳辉','刘陆彪','刘电龙','刘娟良','刘二宝','刘勇','杨利民','冯上琛','崔强','冯建明','王晓明','周建文','王永林','王安平','刘贵明','张雄','曹树春','刘福元','刘海廷','杨赧','王仲明','师淑红','赵鹏丽','刘海澎'\n",
    "]\n",
    "df=df[(df['jymc'].isin(select_jymc))  &  (df['jydfmc'].isin(select_jymc))]"
   ]
  },
  {
   "cell_type": "code",
   "execution_count": 5,
   "metadata": {},
   "outputs": [
    {
     "data": {
      "text/plain": [
       "(3934, 8)"
      ]
     },
     "execution_count": 5,
     "metadata": {},
     "output_type": "execute_result"
    }
   ],
   "source": [
    "df.shape"
   ]
  },
  {
   "cell_type": "code",
   "execution_count": 6,
   "metadata": {},
   "outputs": [],
   "source": [
    "from docx.enum.table import WD_TABLE_ALIGNMENT\n"
   ]
  },
  {
   "cell_type": "code",
   "execution_count": 9,
   "metadata": {},
   "outputs": [],
   "source": [
    "import docx\n",
    "d=docx.Document()\n",
    "jymc=list(set(df.jymc))\n",
    "for i in range(len(jymc)):\n",
    "#     print(i,jymc[i])\n",
    "    df1=df[df['jymc']==jymc[i]]\n",
    "    df_fin=df1.groupby(['jymc','jydfmc','jdbz'])['jyje'].agg([sum,len]).unstack().fillna(0).reset_index()\n",
    "    df_fin.columns=[i+'_'+j for i ,j in df_fin.columns]\n",
    "    \n",
    "    if set(df1.jdbz)==set('进'):\n",
    "        df_fin['sum_出']=0\n",
    "        df_fin['len_出']=0\n",
    "    elif set(df1.jdbz)==set('出'):\n",
    "        df_fin['sum_进']=0\n",
    "        df_fin['len_进']=0\n",
    "\n",
    "        \n",
    "    df_fin['zje']=df_fin['sum_进']+df_fin['sum_出']\n",
    "    df_fin['zcs']=df_fin['len_进']+df_fin['len_出']\n",
    "\n",
    "    df_fin['sum_出']=df_fin['sum_出'].apply(lambda x:int(x))\n",
    "    df_fin['sum_进']=df_fin['sum_进'].apply(lambda x:int(x))\n",
    "    df_fin['len_出']=df_fin['len_出'].apply(lambda x:int(x))\n",
    "    df_fin['len_进']=df_fin['len_进'].apply(lambda x:int(x))\n",
    "    df_fin['zje']=df_fin['zje'].apply(lambda x:int(x))\n",
    "    df_fin['zcs']=df_fin['zcs'].apply(lambda x:int(x))\n",
    "    \n",
    "    df2=df_fin\n",
    "   \n",
    "    czcs=str(len(df_fin.len_出))\n",
    "    czje=str(df_fin.len_出.sum())\n",
    "    jzcs=str(len(df_fin.len_进))\n",
    "    jzje=str(df_fin.len_进.sum())\n",
    "    zcs=str(len(df_fin.len_出)+len(df_fin.len_进))\n",
    "    zje=str(df_fin.len_出.sum()+df_fin.len_进.sum())\n",
    "\n",
    "    str1='累计交易金额{}元，交易次数{}次，进账金额{}元，进账次数{}次，出帐金额{}元，出张金额{}次'.format(zje,zcs,jzje,jzcs,czje,czcs)\n",
    "    d.add_heading(str(i+1)+'.'+jymc[i])\n",
    "    d.add_paragraph(str1)\n",
    "    tb=d.add_table(rows=len(df2.index),cols=len(df2.columns))\n",
    "    tb.add_row()\n",
    "    for i in range(len(df2.columns)):\n",
    "        tb.cell(0,i).text=df2.columns[i]#添加表头\n",
    "    for i in range(df2.shape[0]):\n",
    "        for j in range(df2.shape[1]):\n",
    "            tb.cell(i+1,j).paragraphs[0].paragraph_format.alignment = WD_TABLE_ALIGNMENT.CENTER\n",
    "            tb.cell(i+1,j).text=str(df2.values[i,j])\n",
    "            \n",
    "\n",
    "    # tb.style='Medium Grid 1 Accent 1'\n",
    "    tb.autofit=True\n",
    "#     d.add_page_break()\n",
    "d.save('/home/zhu/桌面/tb8docx')"
   ]
  },
  {
   "cell_type": "code",
   "execution_count": 75,
   "metadata": {},
   "outputs": [
    {
     "data": {
      "text/html": [
       "<div>\n",
       "<style scoped>\n",
       "    .dataframe tbody tr th:only-of-type {\n",
       "        vertical-align: middle;\n",
       "    }\n",
       "\n",
       "    .dataframe tbody tr th {\n",
       "        vertical-align: top;\n",
       "    }\n",
       "\n",
       "    .dataframe thead tr th {\n",
       "        text-align: left;\n",
       "    }\n",
       "</style>\n",
       "<table border=\"1\" class=\"dataframe\">\n",
       "  <thead>\n",
       "    <tr>\n",
       "      <th></th>\n",
       "      <th>jymc</th>\n",
       "      <th>jydfmc</th>\n",
       "      <th>sum</th>\n",
       "      <th>len</th>\n",
       "    </tr>\n",
       "    <tr>\n",
       "      <th>jdbz</th>\n",
       "      <th></th>\n",
       "      <th></th>\n",
       "      <th>进</th>\n",
       "      <th>进</th>\n",
       "    </tr>\n",
       "  </thead>\n",
       "  <tbody>\n",
       "    <tr>\n",
       "      <th>0</th>\n",
       "      <td>刘福元</td>\n",
       "      <td>中阳县中亘混凝土搅拌站</td>\n",
       "      <td>200000.0</td>\n",
       "      <td>1.0</td>\n",
       "    </tr>\n",
       "    <tr>\n",
       "      <th>1</th>\n",
       "      <td>刘福元</td>\n",
       "      <td>刘桂材</td>\n",
       "      <td>2000000.0</td>\n",
       "      <td>2.0</td>\n",
       "    </tr>\n",
       "  </tbody>\n",
       "</table>\n",
       "</div>"
      ],
      "text/plain": [
       "     jymc       jydfmc        sum  len\n",
       "jdbz                            进    进\n",
       "0     刘福元  中阳县中亘混凝土搅拌站   200000.0  1.0\n",
       "1     刘福元          刘桂材  2000000.0  2.0"
      ]
     },
     "execution_count": 75,
     "metadata": {},
     "output_type": "execute_result"
    }
   ],
   "source": [
    "# df[df['jymc']=='刘福元']\n",
    "df[df['jymc']=='刘福元'].groupby(['jymc','jydfmc','jdbz'])['jyje'].agg([sum,len]).unstack().fillna(0).reset_index()"
   ]
  },
  {
   "cell_type": "code",
   "execution_count": 78,
   "metadata": {},
   "outputs": [
    {
     "data": {
      "text/plain": [
       "False"
      ]
     },
     "execution_count": 78,
     "metadata": {},
     "output_type": "execute_result"
    }
   ],
   "source": [
    "set(df.jdbz)=='进'"
   ]
  },
  {
   "cell_type": "code",
   "execution_count": 86,
   "metadata": {},
   "outputs": [
    {
     "data": {
      "text/plain": [
       "True"
      ]
     },
     "execution_count": 86,
     "metadata": {},
     "output_type": "execute_result"
    }
   ],
   "source": [
    "a='出'\n",
    "set(a)==set(\"出\")"
   ]
  },
  {
   "cell_type": "code",
   "execution_count": 62,
   "metadata": {},
   "outputs": [],
   "source": [
    "\n",
    "\n",
    "df2=df_fin\n",
    "d=docx.Document()\n",
    "czcs=str(len(df_fin.len_出))\n",
    "czje=str(df_fin.len_出.sum())\n",
    "jzcs=str(len(df_fin.len_进))\n",
    "jzje=str(df_fin.len_进.sum())\n",
    "zcs=str(len(df_fin.len_出)+len(df_fin.len_进))\n",
    "zje=str(df_fin.len_出.sum()+df_fin.len_进.sum())\n",
    "\n",
    "str1='累计交易金额{}元，交易次数{}次，进账金额{}元，进账次数{}次，出帐金额{}元，出张金额{}次'.format(zje,zcs,jzje,jzcs,czje,czcs)\n",
    "d.add_paragraph(str1)\n",
    "tb=d.add_table(rows=len(df2.index),cols=len(df2.columns))\n",
    "tb.add_row()\n",
    "for i in range(len(df2.columns)):\n",
    "    tb.cell(0,i).text=df2.columns[i]#添加表头\n",
    "for i in range(df2.shape[0]):\n",
    "    for j in range(df2.shape[1]):\n",
    "        tb.cell(i+1,j).text=str(df2.values[i,j])\n",
    "\n",
    "# tb.style='Medium Grid 1 Accent 1'\n",
    "tb.autofit=True\n",
    "d.save('/home/zhu/桌面/tb3.docx')"
   ]
  },
  {
   "cell_type": "code",
   "execution_count": 61,
   "metadata": {},
   "outputs": [
    {
     "data": {
      "text/plain": [
       "19"
      ]
     },
     "execution_count": 61,
     "metadata": {},
     "output_type": "execute_result"
    }
   ],
   "source": [
    "len(df_fin.len_出)"
   ]
  }
 ],
 "metadata": {
  "kernelspec": {
   "display_name": "Python 3",
   "language": "python",
   "name": "python3"
  },
  "language_info": {
   "codemirror_mode": {
    "name": "ipython",
    "version": 3
   },
   "file_extension": ".py",
   "mimetype": "text/x-python",
   "name": "python",
   "nbconvert_exporter": "python",
   "pygments_lexer": "ipython3",
   "version": "3.7.0"
  }
 },
 "nbformat": 4,
 "nbformat_minor": 2
}
