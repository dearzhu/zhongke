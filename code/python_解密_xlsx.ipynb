{
 "cells": [
  {
   "cell_type": "code",
   "execution_count": 17,
   "metadata": {},
   "outputs": [],
   "source": [
    "import win32com.client\n",
    "import pandas as pd\n",
    "def get_datafram(filename,password):\n",
    "    \"\"\"\n",
    "    参数一：文件路径\n",
    "    参数二：文件密码\n",
    "    \"\"\"\n",
    "    xlApp = win32com.client.Dispatch(\"Excel.Application\")\n",
    "    xlwb = xlApp.Workbooks.Open(filename, False, True, None, Password=password)\n",
    "    #获取工作表具体情况\n",
    "    # 获取行数\n",
    "    rows=xlwb.Worksheets(1).UsedRange.Rows.Count\n",
    "    # 获取列数\n",
    "    col=xlwb.Worksheets(1).UsedRange.Columns.Count\n",
    "    #数据遍历重新写出\n",
    "    df_list=[]\n",
    "    for i in range(rows+1):\n",
    "        #每一行的值加入一个list\n",
    "        df_row_list=[]\n",
    "        for j in range(col+1):   \n",
    "          #获取每个单元格的值\n",
    "            a=xlwb.Worksheets(1).Cells(i+1,j+1).Value\n",
    "            df_row_list.append(a)\n",
    "        df_list.append(df_row_list)\n",
    "    #转换写出\n",
    "    df=pd.DataFrame(df_list)\n",
    "    return df "
   ]
  }
 ],
 "metadata": {
  "kernelspec": {
   "display_name": "Python 3",
   "language": "python",
   "name": "python3"
  },
  "language_info": {
   "codemirror_mode": {
    "name": "ipython",
    "version": 3
   },
   "file_extension": ".py",
   "mimetype": "text/x-python",
   "name": "python",
   "nbconvert_exporter": "python",
   "pygments_lexer": "ipython3",
   "version": "3.7.6"
  }
 },
 "nbformat": 4,
 "nbformat_minor": 4
}
