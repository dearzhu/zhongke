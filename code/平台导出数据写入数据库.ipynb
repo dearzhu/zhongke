{
 "cells": [
  {
   "cell_type": "code",
   "execution_count": 2,
   "metadata": {},
   "outputs": [],
   "source": [
    "import pandas as pd\n",
    "from sqlalchemy import create_engine  "
   ]
  },
  {
   "cell_type": "code",
   "execution_count": 45,
   "metadata": {},
   "outputs": [
    {
     "name": "stderr",
     "output_type": "stream",
     "text": [
      "D:\\develop\\anaconda\\lib\\site-packages\\IPython\\core\\interactiveshell.py:3063: DtypeWarning: Columns (0,1,3) have mixed types.Specify dtype option on import or set low_memory=False.\n",
      "  interactivity=interactivity, compiler=compiler, result=result)\n"
     ]
    }
   ],
   "source": [
    "path='c://Users//jxh/Desktop//20200416返回数据及清洗数据/资金交易明细20200416183139_1.csv'\n",
    "df=pd.read_csv(path,encoding='gbk')"
   ]
  },
  {
   "cell_type": "code",
   "execution_count": 20,
   "metadata": {},
   "outputs": [],
   "source": []
  },
  {
   "cell_type": "code",
   "execution_count": 46,
   "metadata": {},
   "outputs": [
    {
     "name": "stdout",
     "output_type": "stream",
     "text": [
      "\t交易卡号\n",
      "\t交易账号\n",
      "\t交易方户名\n",
      "\t交易方证件号\n",
      "\t交易账户开户银行\n",
      "\t交易时间\n",
      "\t交易金额\n",
      "\t交易余额\n",
      "\t交易币种\n",
      "\t借贷标志\n",
      "\t对手账号\n",
      "\t对手户名\n",
      "\t对手证件号\n",
      "\t对手账户开户银行\n",
      "\t对手交易余额\n",
      "\t交易银行名\n",
      "\t交易网点号\n",
      "\t交易网点名称\n",
      "\t摘要说明\n",
      "\t备注\n",
      "\t批次\n",
      "\t交易是否成功\n",
      "\t传票号\n",
      "\tIP地址\n",
      "\tIP所属省份\n",
      "\tIP所属城市\n",
      "\tIP所属地区\n",
      "\tMAC地址\n",
      "\t交易渠道\n",
      "\t交易场所\n",
      "\t交易发生地\n",
      "\t交易类型\n",
      "\t查询反馈结果原因\n"
     ]
    }
   ],
   "source": [
    "for column in df.columns:\n",
    "    print(column)\n",
    "    df[column]=df[column].apply(lambda x : str(x).replace(\"\\t\",\"\"))"
   ]
  },
  {
   "cell_type": "code",
   "execution_count": 43,
   "metadata": {},
   "outputs": [],
   "source": []
  },
  {
   "cell_type": "code",
   "execution_count": 60,
   "metadata": {},
   "outputs": [],
   "source": [
    "select_col=['\\t交易卡号', '\\t交易账号', '\\t交易方户名', '\\t交易方证件号', '\\t交易时间',\n",
    "       '\\t交易金额', '\\t交易余额', '\\t交易币种', '\\t借贷标志', '\\t对手账号', '\\t对手户名', '\\t对手证件号',\n",
    "       '\\t对手账户开户银行', '\\t对手交易余额',  '\\t摘要说明', '\\t备注', '\\t批次',  '\\tIP地址','\\tMAC地址']\n",
    "df1=df[select_col]"
   ]
  },
  {
   "cell_type": "code",
   "execution_count": 49,
   "metadata": {},
   "outputs": [
    {
     "data": {
      "text/plain": [
       "(41930, 20)"
      ]
     },
     "execution_count": 49,
     "metadata": {},
     "output_type": "execute_result"
    }
   ],
   "source": [
    "df1.shape"
   ]
  },
  {
   "cell_type": "code",
   "execution_count": 61,
   "metadata": {},
   "outputs": [],
   "source": [
    "df1.columns=['cxkh','cxzh',\"jymc\",\"jyzjhm\",\"jysj\",\"jyje\",\"jyye\",\"jybz\",\"jdbz\",\"jydfzkh\",\"jydfmc\",\"jydfzjhm\",\"jydfzhkhh\",\"dsjyye\",\"zysm\",\"beiz\",\"pc\",\"ip\",\"mac\"]"
   ]
  },
  {
   "cell_type": "code",
   "execution_count": 62,
   "metadata": {},
   "outputs": [
    {
     "name": "stderr",
     "output_type": "stream",
     "text": [
      "D:\\develop\\anaconda\\lib\\site-packages\\ipykernel_launcher.py:2: DeprecationWarning: time.clock has been deprecated in Python 3.3 and will be removed from Python 3.8: use time.perf_counter or time.process_time instead\n",
      "  \n"
     ]
    },
    {
     "name": "stdout",
     "output_type": "stream",
     "text": [
      "3.7895281999999497\n"
     ]
    },
    {
     "name": "stderr",
     "output_type": "stream",
     "text": [
      "D:\\develop\\anaconda\\lib\\site-packages\\ipykernel_launcher.py:6: DeprecationWarning: time.clock has been deprecated in Python 3.3 and will be removed from Python 3.8: use time.perf_counter or time.process_time instead\n",
      "  \n"
     ]
    }
   ],
   "source": [
    "import time \n",
    "t1=time.clock()\n",
    "engine = create_engine(\"mysql+pymysql://{}:{}@{}/{}?charset={}\".format('root', '521521', '127.0.0.1:3306', 'sxzy','utf8'))\n",
    "# if_exists='replace/append/fail',\n",
    "df1.to_sql('gas_bank_records',con=engine,if_exists='append',index=False)  \n",
    "t2=time.clock()\n",
    "print(t2-t1)"
   ]
  },
  {
   "cell_type": "code",
   "execution_count": 57,
   "metadata": {},
   "outputs": [
    {
     "data": {
      "text/plain": [
       "0        13\n",
       "1        13\n",
       "2        13\n",
       "3        13\n",
       "4        13\n",
       "         ..\n",
       "41925    13\n",
       "41926    13\n",
       "41927    13\n",
       "41928    13\n",
       "41929    13\n",
       "Name: pc, Length: 41930, dtype: int64"
      ]
     },
     "execution_count": 57,
     "metadata": {},
     "output_type": "execute_result"
    }
   ],
   "source": [
    "df1['pc']"
   ]
  },
  {
   "cell_type": "code",
   "execution_count": 35,
   "metadata": {},
   "outputs": [],
   "source": [
    "df2.to_sql('test12',con=engine,if_exists='replace',index=False)  \n"
   ]
  }
 ],
 "metadata": {
  "kernelspec": {
   "display_name": "Python 3",
   "language": "python",
   "name": "python3"
  },
  "language_info": {
   "codemirror_mode": {
    "name": "ipython",
    "version": 3
   },
   "file_extension": ".py",
   "mimetype": "text/x-python",
   "name": "python",
   "nbconvert_exporter": "python",
   "pygments_lexer": "ipython3",
   "version": "3.7.6"
  }
 },
 "nbformat": 4,
 "nbformat_minor": 4
}
