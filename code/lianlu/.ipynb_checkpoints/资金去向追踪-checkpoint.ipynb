{
 "cells": [
  {
   "cell_type": "code",
   "execution_count": 19,
   "metadata": {},
   "outputs": [],
   "source": [
    "import pymysql as ps\n",
    "import re\n",
    "import xlrd\n",
    "import pandas as pd\n",
    "import numpy as np\n",
    "\n",
    "db_host = 'localhost'\n",
    "db_user = 'root'\n",
    "db_pwd = '521521'\n",
    "db_name = 'sxzy'\n",
    "char_type = 'utf-8'\n",
    "db = ps.connect(db_host, db_user, db_pwd, db_name, charset='utf8')\n",
    "couser = db.cursor()"
   ]
  },
  {
   "cell_type": "code",
   "execution_count": 20,
   "metadata": {},
   "outputs": [],
   "source": [
    "sql='select jymc from person_info'\n",
    "couser.execute(sql)\n",
    "rows = couser.fetchall()\n",
    "jymc_list=[i[0] for i in rows]"
   ]
  },
  {
   "cell_type": "code",
   "execution_count": null,
   "metadata": {},
   "outputs": [],
   "source": []
  },
  {
   "cell_type": "code",
   "execution_count": 21,
   "metadata": {},
   "outputs": [],
   "source": [
    "\n",
    "def select(jymc):\n",
    "    sql = 'select * from (\\\n",
    "    select t1.jymc yicmc,t1.cxkh yiczh,t1.jysj yicsj,t1.jyje yicje,t1.jydfmc ercmc, t1.jydfzkh erckh,\\\n",
    "           t2.jysj ercsj,t2.jyje ercje,t2.jydfmc sancmc,t2.jydfzkh sanckh,\\\n",
    "           t3.jysj sancsj,t3.jyje sancje,t3.jydfmc sicmc,t3.jydfzkh sickh,\\\n",
    "           t4.jysj sicsj,t4.jyje sicje,t4.jydfmc wucmc,t4.jydfzkh wuckh,\\\n",
    "           t5.jysj wucsj,t5.jyje wucje,t5.jydfmc liucmc,t5.jydfzkh liuckh\\\n",
    "             from \\\n",
    "            (select cxkh,jymc,jysj,jyje,jydfzkh,jydfmc,stamp_jysj from df_lianlu_chu_2016 where jymc=\"'+jymc+'\" )t1\\\n",
    "            left join\\\n",
    "            (select cxkh,jymc,jysj,jyje,jydfzkh,jydfmc,stamp_jysj from df_lianlu_chu_2016 )t2\\\n",
    "            on t1.jydfzkh=t2.cxkh and t2.jyje between t1.jyje*0.5 and t1.jyje*1.5 \\\n",
    "            and t2.stamp_jysj between t1.stamp_jysj and t1.stamp_jysj+172800 and t2.jydfzkh!=t1.cxkh and t2.jydfzkh!=t2.cxkh\\\n",
    "            left JOIN\\\n",
    "            (select cxkh,jymc,jysj,jyje,jydfzkh,jydfmc,stamp_jysj from df_lianlu_chu_2016  )t3\\\n",
    "            on t2.jydfzkh=t3.cxkh and t3.jyje between t2.jyje*0.5 and t2.jyje*1.5\\\n",
    "            and t3.stamp_jysj between t2.stamp_jysj and t2.stamp_jysj+172800  and t3.jydfzkh!=t1.cxkh and \\\n",
    "            t3.jydfzkh!=t2.cxkh and t3.jydfzkh!=t3.cxkh\\\n",
    "            left JOIN\\\n",
    "            (select cxkh,jymc,jysj,jyje,jydfzkh,jydfmc,stamp_jysj  from df_lianlu_chu_2016 )t4\\\n",
    "            on t3.jydfmc=t4.jymc and t4.jyje between t3.jyje*0.5 and t3.jyje*1.5\\\n",
    "            and t4.stamp_jysj between t3.stamp_jysj and t3.stamp_jysj+172800  and t4.jydfzkh=t1.cxkh and t4.jydfzkh!=t2.cxkh and t4.jydfzkh!=t3.cxkh and t4.jydfzkh!=t4.cxkh\\\n",
    "            left JOIN\\\n",
    "            (select cxkh,jymc,jysj,jyje,jydfzkh,jydfmc,stamp_jysj from df_lianlu_chu_2016 )t5\\\n",
    "            on t4.jydfmc=t5.jymc and t5.jyje between t4.jyje*0.5 and t4.jyje*1.5\\\n",
    "            and t5.stamp_jysj between t4.stamp_jysj and t4.stamp_jysj+172800  and t5.jydfzkh!=t1.cxkh and t5.jydfzkh!=t2.cxkh and  t5.jydfzkh!=t3.cxkh \\\n",
    "            and  t5.jydfzkh!=t4.cxkh and t5.jydfzkh!=t5.cxkh)t'\n",
    "    # 执行语句\n",
    "    couser.execute(sql)\n",
    "    rows = couser.fetchall()\n",
    "#     df_list.append(rows)\n",
    "    return rows"
   ]
  },
  {
   "cell_type": "code",
   "execution_count": 22,
   "metadata": {},
   "outputs": [
    {
     "name": "stdout",
     "output_type": "stream",
     "text": [
      "第---- 0 -----------个，总共 60 个\n",
      "第---- 1 -----------个，总共 60 个\n",
      "第---- 2 -----------个，总共 60 个\n",
      "第---- 3 -----------个，总共 60 个\n",
      "第---- 4 -----------个，总共 60 个\n",
      "第---- 5 -----------个，总共 60 个\n",
      "第---- 6 -----------个，总共 60 个\n",
      "第---- 7 -----------个，总共 60 个\n",
      "第---- 8 -----------个，总共 60 个\n",
      "第---- 9 -----------个，总共 60 个\n",
      "第---- 10 -----------个，总共 60 个\n",
      "第---- 11 -----------个，总共 60 个\n",
      "第---- 12 -----------个，总共 60 个\n",
      "第---- 13 -----------个，总共 60 个\n",
      "第---- 14 -----------个，总共 60 个\n",
      "第---- 15 -----------个，总共 60 个\n",
      "第---- 16 -----------个，总共 60 个\n",
      "第---- 17 -----------个，总共 60 个\n",
      "第---- 18 -----------个，总共 60 个\n",
      "第---- 19 -----------个，总共 60 个\n",
      "第---- 20 -----------个，总共 60 个\n",
      "第---- 21 -----------个，总共 60 个\n",
      "第---- 22 -----------个，总共 60 个\n",
      "第---- 23 -----------个，总共 60 个\n",
      "第---- 24 -----------个，总共 60 个\n",
      "第---- 25 -----------个，总共 60 个\n",
      "第---- 26 -----------个，总共 60 个\n",
      "第---- 27 -----------个，总共 60 个\n",
      "第---- 28 -----------个，总共 60 个\n",
      "第---- 29 -----------个，总共 60 个\n",
      "第---- 30 -----------个，总共 60 个\n",
      "第---- 31 -----------个，总共 60 个\n",
      "第---- 32 -----------个，总共 60 个\n",
      "第---- 33 -----------个，总共 60 个\n",
      "第---- 34 -----------个，总共 60 个\n",
      "第---- 35 -----------个，总共 60 个\n",
      "第---- 36 -----------个，总共 60 个\n",
      "第---- 37 -----------个，总共 60 个\n",
      "第---- 38 -----------个，总共 60 个\n",
      "第---- 39 -----------个，总共 60 个\n",
      "第---- 40 -----------个，总共 60 个\n",
      "第---- 41 -----------个，总共 60 个\n",
      "第---- 42 -----------个，总共 60 个\n",
      "第---- 43 -----------个，总共 60 个\n",
      "第---- 44 -----------个，总共 60 个\n",
      "第---- 45 -----------个，总共 60 个\n",
      "第---- 46 -----------个，总共 60 个\n",
      "第---- 47 -----------个，总共 60 个\n",
      "第---- 48 -----------个，总共 60 个\n",
      "第---- 49 -----------个，总共 60 个\n",
      "第---- 50 -----------个，总共 60 个\n",
      "第---- 51 -----------个，总共 60 个\n",
      "第---- 52 -----------个，总共 60 个\n",
      "第---- 53 -----------个，总共 60 个\n",
      "第---- 54 -----------个，总共 60 个\n",
      "第---- 55 -----------个，总共 60 个\n",
      "第---- 56 -----------个，总共 60 个\n",
      "第---- 57 -----------个，总共 60 个\n",
      "第---- 58 -----------个，总共 60 个\n",
      "第---- 59 -----------个，总共 60 个\n"
     ]
    }
   ],
   "source": [
    "df_list=[]\n",
    "for i in jymc_list:\n",
    "    print('第----',jymc_list.index(i),'-----------个，总共',len(jymc_list),'个')\n",
    "    df_list.append(select(i))\n",
    "    "
   ]
  },
  {
   "cell_type": "code",
   "execution_count": 23,
   "metadata": {},
   "outputs": [],
   "source": [
    "df1_list=[i for i in df_list if len(i)!=0]\n"
   ]
  },
  {
   "cell_type": "code",
   "execution_count": 24,
   "metadata": {},
   "outputs": [],
   "source": [
    "df_data=[]\n",
    "for i in df1_list:\n",
    "    for j in i:\n",
    "        df_data.append(j)"
   ]
  },
  {
   "cell_type": "code",
   "execution_count": 25,
   "metadata": {},
   "outputs": [],
   "source": [
    "import numpy as np\n",
    "import pandas as pd\n",
    "col=['yicmc','yiczh','yicsj','yicje','ercmc','erckh','ercsj','ercje','sancmc','sanckh','sancsj','sancje','sicmc','sickh','sicsj','sicje','wucmc','wuckh','wucsj','wucje','liucmc','liuckh']"
   ]
  },
  {
   "cell_type": "code",
   "execution_count": 26,
   "metadata": {},
   "outputs": [],
   "source": [
    "dd=pd.DataFrame(np.array(df_data),columns=col)"
   ]
  },
  {
   "cell_type": "code",
   "execution_count": 27,
   "metadata": {},
   "outputs": [],
   "source": [
    "dd.to_excel('c:/users/user1/Desktop/2016年之前数据/去向链路.xlsx',encoding='utf-8',index=False)"
   ]
  },
  {
   "cell_type": "code",
   "execution_count": 1,
   "metadata": {},
   "outputs": [],
   "source": [
    "import numpy as np\n",
    "import pandas as pd\n",
    "import matplotlib.pyplot as plt\n",
    "import seaborn as sns"
   ]
  },
  {
   "cell_type": "code",
   "execution_count": 2,
   "metadata": {},
   "outputs": [
    {
     "data": {
      "text/plain": [
       "array([[  7,  -4,  -4,   4,   8,   2,  -6, -10],\n",
       "       [  6,   2,  -9,   7,  -7,  -8,   1,   3],\n",
       "       [ -5,   2,   4,   7,   7,   7, -10,  -7],\n",
       "       [-10,   2,  -8,   1,   7,   2,  -3,   2],\n",
       "       [  7,  -6,   4,  -8,   1,  -8,  -9,   0]])"
      ]
     },
     "execution_count": 2,
     "metadata": {},
     "output_type": "execute_result"
    }
   ],
   "source": [
    "# 生成随机矩阵\n",
    "df = np.random.randint(-10,10,size=(5,8))\n",
    "df"
   ]
  },
  {
   "cell_type": "code",
   "execution_count": 3,
   "metadata": {},
   "outputs": [
    {
     "data": {
      "text/plain": [
       "array([[ 1.        , -0.04027709,  0.53682208,  0.05105338,  0.22621533],\n",
       "       [-0.04027709,  1.        , -0.4661197 , -0.16839722, -0.09320436],\n",
       "       [ 0.53682208, -0.4661197 ,  1.        ,  0.40410339, -0.11385599],\n",
       "       [ 0.05105338, -0.16839722,  0.40410339,  1.        , -0.48898935],\n",
       "       [ 0.22621533, -0.09320436, -0.11385599, -0.48898935,  1.        ]])"
      ]
     },
     "execution_count": 3,
     "metadata": {},
     "output_type": "execute_result"
    }
   ],
   "source": [
    "# 计算相关系数矩阵\n",
    "corr = np.corrcoef(df)\n",
    "corr"
   ]
  },
  {
   "cell_type": "code",
   "execution_count": 4,
   "metadata": {},
   "outputs": [
    {
     "data": {
      "text/plain": [
       "<matplotlib.axes._subplots.AxesSubplot at 0x1b68fc99a58>"
      ]
     },
     "execution_count": 4,
     "metadata": {},
     "output_type": "execute_result"
    },
    {
     "data": {
      "image/png": "[encoded data removed]",
      "text/plain": [
       "<Figure size 720x360 with 2 Axes>"
      ]
     },
     "metadata": {
      "needs_background": "light"
     },
     "output_type": "display_data"
    }
   ],
   "source": [
    "# 生成热力图\n",
    "f,ax = plt.subplots(figsize=(10,5))\n",
    "sns.heatmap(corr,annot=True)\n",
    "# annot=True表示在方格内显示数值。"
   ]
  }
 ],
 "metadata": {
  "kernelspec": {
   "display_name": "Python 3",
   "language": "python",
   "name": "python3"
  },
  "language_info": {
   "codemirror_mode": {
    "name": "ipython",
    "version": 3
   },
   "file_extension": ".py",
   "mimetype": "text/x-python",
   "name": "python",
   "nbconvert_exporter": "python",
   "pygments_lexer": "ipython3",
   "version": "3.7.3"
  }
 },
 "nbformat": 4,
 "nbformat_minor": 2
}
