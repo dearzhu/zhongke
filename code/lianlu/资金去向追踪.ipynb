{
 "cells": [
  {
   "cell_type": "code",
   "execution_count": 6,
   "metadata": {},
   "outputs": [],
   "source": [
    "import pymysql as ps\n",
    "import re\n",
    "import xlrd\n",
    "import pandas as pd\n",
    "import numpy as np\n",
    "\n",
    "db_host = 'localhost'\n",
    "db_user = 'root'\n",
    "db_pwd = '521521'\n",
    "db_name = 'sxzy'\n",
    "char_type = 'utf-8'\n",
    "db = ps.connect(db_host, db_user, db_pwd, db_name, charset='utf8')\n",
    "couser = db.cursor()"
   ]
  },
  {
   "cell_type": "code",
   "execution_count": 3,
   "metadata": {},
   "outputs": [],
   "source": [
    "sql='select jymc from person_info'\n",
    "couser.execute(sql)\n",
    "rows = couser.fetchall()\n",
    "jymc_list=[i[0] for i in rows]"
   ]
  },
  {
   "cell_type": "code",
   "execution_count": 4,
   "metadata": {},
   "outputs": [],
   "source": [
    "sql='select distinct jymc  from gas_bank_records'\n",
    "couser.execute(sql)\n",
    "rows = couser.fetchall()\n",
    "jymc_list=[i[0] for i in rows]\n",
    "jymc_df=pd.DataFrame(jymc_list,columns=['jymc'])"
   ]
  },
  {
   "cell_type": "code",
   "execution_count": 21,
   "metadata": {},
   "outputs": [
    {
     "name": "stdout",
     "output_type": "stream",
     "text": [
      "select * from person_info where jymc = '崔新平'\n"
     ]
    },
    {
     "data": {
      "text/plain": [
       "['崔新平']"
      ]
     },
     "execution_count": 21,
     "metadata": {},
     "output_type": "execute_result"
    }
   ],
   "source": [
    "table_name='person_info'\n",
    "a='崔新平'\n",
    "sql=\"select * from {tab_name} where jymc = '{jymc}'\".format(table_name, a)\n",
    "print(sql)\n",
    "# values=[table_name,'崔新平']\n",
    "couser.execute(sql)\n",
    "rows = couser.fetchall()\n",
    "jydfmc_list=[i[0] for i in rows]\n",
    "jydfmc_list"
   ]
  },
  {
   "cell_type": "code",
   "execution_count": null,
   "metadata": {},
   "outputs": [],
   "source": [
    "df_jymc=pd.concat([jydfmc_df,jydfmc_df],axis=0).drop_duplicates()"
   ]
  },
  {
   "cell_type": "code",
   "execution_count": null,
   "metadata": {},
   "outputs": [],
   "source": [
    "df_jymc=df_jymc.fillna('a')\n",
    "df_jymc['len_']=df_jymc['jymc'].apply(lambda x:len(x) )"
   ]
  },
  {
   "cell_type": "code",
   "execution_count": null,
   "metadata": {},
   "outputs": [],
   "source": [
    "df_select_jymc=df_jymc[(df_jymc['len_']>4 )& df_jymc['jymc'].str.contains('市政|世正|工程|大同')]"
   ]
  },
  {
   "cell_type": "code",
   "execution_count": null,
   "metadata": {},
   "outputs": [],
   "source": [
    "df_select_jymc.to_excel('c:/Users/jxh/Desktop/select_jymc.xlsx',index=False,encoding='utf-8')"
   ]
  },
  {
   "cell_type": "code",
   "execution_count": null,
   "metadata": {},
   "outputs": [],
   "source": []
  },
  {
   "cell_type": "code",
   "execution_count": 23,
   "metadata": {},
   "outputs": [],
   "source": [
    "\n",
    "def select(jymc,table_name):\n",
    "    sql = \"select * from (\\\n",
    "    select t1.jymc yicmc,t1.cxkh yiczh,t1.jysj yicsj,t1.jyje yicje,t1.jydfmc ercmc, t1.jydfzkh erckh,\\\n",
    "           t2.jysj ercsj,t2.jyje ercje,t2.jydfmc sancmc,t2.jydfzkh sanckh,\\\n",
    "           t3.jysj sancsj,t3.jyje sancje,t3.jydfmc sicmc,t3.jydfzkh sickh,\\\n",
    "           t4.jysj sicsj,t4.jyje sicje,t4.jydfmc wucmc,t4.jydfzkh wuckh,\\\n",
    "           t5.jysj wucsj,t5.jyje wucje,t5.jydfmc liucmc,t5.jydfzkh liuckh\\\n",
    "             from \\\n",
    "            (select cxkh,jymc,jysj,jyje,jydfzkh,jydfmc,stamp_jysj from {} where jymc='{}' )t1\\\n",
    "            left join\\\n",
    "            (select cxkh,jymc,jysj,jyje,jydfzkh,jydfmc,stamp_jysj from{} )t2\\\n",
    "            on t1.jydfzkh=t2.cxkh and t2.jyje between t1.jyje*0.5 and t1.jyje*1.5 \\\n",
    "            and t2.stamp_jysj between t1.stamp_jysj and t1.stamp_jysj+172800 and t2.jydfzkh!=t1.cxkh and t2.jydfzkh!=t2.cxkh\\\n",
    "            left JOIN\\\n",
    "            (select cxkh,jymc,jysj,jyje,jydfzkh,jydfmc,stamp_jysj from {}  )t3\\\n",
    "            on t2.jydfzkh=t3.cxkh and t3.jyje between t2.jyje*0.5 and t2.jyje*1.5\\\n",
    "            and t3.stamp_jysj between t2.stamp_jysj and t2.stamp_jysj+172800  and t3.jydfzkh!=t1.cxkh and \\\n",
    "            t3.jydfzkh!=t2.cxkh and t3.jydfzkh!=t3.cxkh\\\n",
    "            left JOIN\\\n",
    "            (select cxkh,jymc,jysj,jyje,jydfzkh,jydfmc,stamp_jysj  from {} )t4\\\n",
    "            on t3.jydfmc=t4.jymc and t4.jyje between t3.jyje*0.5 and t3.jyje*1.5\\\n",
    "            and t4.stamp_jysj between t3.stamp_jysj and t3.stamp_jysj+172800  and t4.jydfzkh=t1.cxkh and t4.jydfzkh!=t2.cxkh and t4.jydfzkh!=t3.cxkh and t4.jydfzkh!=t4.cxkh\\\n",
    "            left JOIN\\\n",
    "            (select cxkh,jymc,jysj,jyje,jydfzkh,jydfmc,stamp_jysj from {})t5\\\n",
    "            on t4.jydfmc=t5.jymc and t5.jyje between t4.jyje*0.5 and t4.jyje*1.5\\\n",
    "            and t5.stamp_jysj between t4.stamp_jysj and t4.stamp_jysj+172800  and t5.jydfzkh!=t1.cxkh and t5.jydfzkh!=t2.cxkh and  t5.jydfzkh!=t3.cxkh \\\n",
    "            and  t5.jydfzkh!=t4.cxkh and t5.jydfzkh!=t5.cxkh)t\".format(table_name,jymc,table_name,table_name,table_name,table_name)\n",
    "    print(sql)\n",
    "    # 执行语句\n",
    "    couser.execute(sql)\n",
    "    rows = couser.fetchall()\n",
    "#     df_list.append(rows)\n",
    "    return rows"
   ]
  },
  {
   "cell_type": "code",
   "execution_count": 26,
   "metadata": {},
   "outputs": [
    {
     "name": "stdout",
     "output_type": "stream",
     "text": [
      "第---- 0 -----------个，总共 15 个\n",
      "select * from (    select t1.jymc yicmc,t1.cxkh yiczh,t1.jysj yicsj,t1.jyje yicje,t1.jydfmc ercmc, t1.jydfzkh erckh,           t2.jysj ercsj,t2.jyje ercje,t2.jydfmc sancmc,t2.jydfzkh sanckh,           t3.jysj sancsj,t3.jyje sancje,t3.jydfmc sicmc,t3.jydfzkh sickh,           t4.jysj sicsj,t4.jyje sicje,t4.jydfmc wucmc,t4.jydfzkh wuckh,           t5.jysj wucsj,t5.jyje wucje,t5.jydfmc liucmc,t5.jydfzkh liuckh             from             (select cxkh,jymc,jysj,jyje,jydfzkh,jydfmc,stamp_jysj from  df_all_lianlu_chu where jymc='新蒲建设集团有限公司太原分公司' )t1            left join            (select cxkh,jymc,jysj,jyje,jydfzkh,jydfmc,stamp_jysj from df_all_lianlu_chu )t2            on t1.jydfzkh=t2.cxkh and t2.jyje between t1.jyje*0.5 and t1.jyje*1.5             and t2.stamp_jysj between t1.stamp_jysj and t1.stamp_jysj+172800 and t2.jydfzkh!=t1.cxkh and t2.jydfzkh!=t2.cxkh            left JOIN            (select cxkh,jymc,jysj,jyje,jydfzkh,jydfmc,stamp_jysj from  df_all_lianlu_chu  )t3            on t2.jydfzkh=t3.cxkh and t3.jyje between t2.jyje*0.5 and t2.jyje*1.5            and t3.stamp_jysj between t2.stamp_jysj and t2.stamp_jysj+172800  and t3.jydfzkh!=t1.cxkh and             t3.jydfzkh!=t2.cxkh and t3.jydfzkh!=t3.cxkh            left JOIN            (select cxkh,jymc,jysj,jyje,jydfzkh,jydfmc,stamp_jysj  from  df_all_lianlu_chu )t4            on t3.jydfmc=t4.jymc and t4.jyje between t3.jyje*0.5 and t3.jyje*1.5            and t4.stamp_jysj between t3.stamp_jysj and t3.stamp_jysj+172800  and t4.jydfzkh=t1.cxkh and t4.jydfzkh!=t2.cxkh and t4.jydfzkh!=t3.cxkh and t4.jydfzkh!=t4.cxkh            left JOIN            (select cxkh,jymc,jysj,jyje,jydfzkh,jydfmc,stamp_jysj from  df_all_lianlu_chu)t5            on t4.jydfmc=t5.jymc and t5.jyje between t4.jyje*0.5 and t4.jyje*1.5            and t5.stamp_jysj between t4.stamp_jysj and t4.stamp_jysj+172800  and t5.jydfzkh!=t1.cxkh and t5.jydfzkh!=t2.cxkh and  t5.jydfzkh!=t3.cxkh             and  t5.jydfzkh!=t4.cxkh and t5.jydfzkh!=t5.cxkh)t\n",
      "第---- 1 -----------个，总共 15 个\n",
      "select * from (    select t1.jymc yicmc,t1.cxkh yiczh,t1.jysj yicsj,t1.jyje yicje,t1.jydfmc ercmc, t1.jydfzkh erckh,           t2.jysj ercsj,t2.jyje ercje,t2.jydfmc sancmc,t2.jydfzkh sanckh,           t3.jysj sancsj,t3.jyje sancje,t3.jydfmc sicmc,t3.jydfzkh sickh,           t4.jysj sicsj,t4.jyje sicje,t4.jydfmc wucmc,t4.jydfzkh wuckh,           t5.jysj wucsj,t5.jyje wucje,t5.jydfmc liucmc,t5.jydfzkh liuckh             from             (select cxkh,jymc,jysj,jyje,jydfzkh,jydfmc,stamp_jysj from  df_all_lianlu_chu where jymc='吕梁市建筑安装总公司第四工程处' )t1            left join            (select cxkh,jymc,jysj,jyje,jydfzkh,jydfmc,stamp_jysj from df_all_lianlu_chu )t2            on t1.jydfzkh=t2.cxkh and t2.jyje between t1.jyje*0.5 and t1.jyje*1.5             and t2.stamp_jysj between t1.stamp_jysj and t1.stamp_jysj+172800 and t2.jydfzkh!=t1.cxkh and t2.jydfzkh!=t2.cxkh            left JOIN            (select cxkh,jymc,jysj,jyje,jydfzkh,jydfmc,stamp_jysj from  df_all_lianlu_chu  )t3            on t2.jydfzkh=t3.cxkh and t3.jyje between t2.jyje*0.5 and t2.jyje*1.5            and t3.stamp_jysj between t2.stamp_jysj and t2.stamp_jysj+172800  and t3.jydfzkh!=t1.cxkh and             t3.jydfzkh!=t2.cxkh and t3.jydfzkh!=t3.cxkh            left JOIN            (select cxkh,jymc,jysj,jyje,jydfzkh,jydfmc,stamp_jysj  from  df_all_lianlu_chu )t4            on t3.jydfmc=t4.jymc and t4.jyje between t3.jyje*0.5 and t3.jyje*1.5            and t4.stamp_jysj between t3.stamp_jysj and t3.stamp_jysj+172800  and t4.jydfzkh=t1.cxkh and t4.jydfzkh!=t2.cxkh and t4.jydfzkh!=t3.cxkh and t4.jydfzkh!=t4.cxkh            left JOIN            (select cxkh,jymc,jysj,jyje,jydfzkh,jydfmc,stamp_jysj from  df_all_lianlu_chu)t5            on t4.jydfmc=t5.jymc and t5.jyje between t4.jyje*0.5 and t4.jyje*1.5            and t5.stamp_jysj between t4.stamp_jysj and t4.stamp_jysj+172800  and t5.jydfzkh!=t1.cxkh and t5.jydfzkh!=t2.cxkh and  t5.jydfzkh!=t3.cxkh             and  t5.jydfzkh!=t4.cxkh and t5.jydfzkh!=t5.cxkh)t\n",
      "第---- 2 -----------个，总共 15 个\n",
      "select * from (    select t1.jymc yicmc,t1.cxkh yiczh,t1.jysj yicsj,t1.jyje yicje,t1.jydfmc ercmc, t1.jydfzkh erckh,           t2.jysj ercsj,t2.jyje ercje,t2.jydfmc sancmc,t2.jydfzkh sanckh,           t3.jysj sancsj,t3.jyje sancje,t3.jydfmc sicmc,t3.jydfzkh sickh,           t4.jysj sicsj,t4.jyje sicje,t4.jydfmc wucmc,t4.jydfzkh wuckh,           t5.jysj wucsj,t5.jyje wucje,t5.jydfmc liucmc,t5.jydfzkh liuckh             from             (select cxkh,jymc,jysj,jyje,jydfzkh,jydfmc,stamp_jysj from  df_all_lianlu_chu where jymc='吕梁市浩珈混凝土有限公司' )t1            left join            (select cxkh,jymc,jysj,jyje,jydfzkh,jydfmc,stamp_jysj from df_all_lianlu_chu )t2            on t1.jydfzkh=t2.cxkh and t2.jyje between t1.jyje*0.5 and t1.jyje*1.5             and t2.stamp_jysj between t1.stamp_jysj and t1.stamp_jysj+172800 and t2.jydfzkh!=t1.cxkh and t2.jydfzkh!=t2.cxkh            left JOIN            (select cxkh,jymc,jysj,jyje,jydfzkh,jydfmc,stamp_jysj from  df_all_lianlu_chu  )t3            on t2.jydfzkh=t3.cxkh and t3.jyje between t2.jyje*0.5 and t2.jyje*1.5            and t3.stamp_jysj between t2.stamp_jysj and t2.stamp_jysj+172800  and t3.jydfzkh!=t1.cxkh and             t3.jydfzkh!=t2.cxkh and t3.jydfzkh!=t3.cxkh            left JOIN            (select cxkh,jymc,jysj,jyje,jydfzkh,jydfmc,stamp_jysj  from  df_all_lianlu_chu )t4            on t3.jydfmc=t4.jymc and t4.jyje between t3.jyje*0.5 and t3.jyje*1.5            and t4.stamp_jysj between t3.stamp_jysj and t3.stamp_jysj+172800  and t4.jydfzkh=t1.cxkh and t4.jydfzkh!=t2.cxkh and t4.jydfzkh!=t3.cxkh and t4.jydfzkh!=t4.cxkh            left JOIN            (select cxkh,jymc,jysj,jyje,jydfzkh,jydfmc,stamp_jysj from  df_all_lianlu_chu)t5            on t4.jydfmc=t5.jymc and t5.jyje between t4.jyje*0.5 and t4.jyje*1.5            and t5.stamp_jysj between t4.stamp_jysj and t4.stamp_jysj+172800  and t5.jydfzkh!=t1.cxkh and t5.jydfzkh!=t2.cxkh and  t5.jydfzkh!=t3.cxkh             and  t5.jydfzkh!=t4.cxkh and t5.jydfzkh!=t5.cxkh)t\n",
      "第---- 3 -----------个，总共 15 个\n",
      "select * from (    select t1.jymc yicmc,t1.cxkh yiczh,t1.jysj yicsj,t1.jyje yicje,t1.jydfmc ercmc, t1.jydfzkh erckh,           t2.jysj ercsj,t2.jyje ercje,t2.jydfmc sancmc,t2.jydfzkh sanckh,           t3.jysj sancsj,t3.jyje sancje,t3.jydfmc sicmc,t3.jydfzkh sickh,           t4.jysj sicsj,t4.jyje sicje,t4.jydfmc wucmc,t4.jydfzkh wuckh,           t5.jysj wucsj,t5.jyje wucje,t5.jydfmc liucmc,t5.jydfzkh liuckh             from             (select cxkh,jymc,jysj,jyje,jydfzkh,jydfmc,stamp_jysj from  df_all_lianlu_chu where jymc='吕梁浩弘商贸有限公司' )t1            left join            (select cxkh,jymc,jysj,jyje,jydfzkh,jydfmc,stamp_jysj from df_all_lianlu_chu )t2            on t1.jydfzkh=t2.cxkh and t2.jyje between t1.jyje*0.5 and t1.jyje*1.5             and t2.stamp_jysj between t1.stamp_jysj and t1.stamp_jysj+172800 and t2.jydfzkh!=t1.cxkh and t2.jydfzkh!=t2.cxkh            left JOIN            (select cxkh,jymc,jysj,jyje,jydfzkh,jydfmc,stamp_jysj from  df_all_lianlu_chu  )t3            on t2.jydfzkh=t3.cxkh and t3.jyje between t2.jyje*0.5 and t2.jyje*1.5            and t3.stamp_jysj between t2.stamp_jysj and t2.stamp_jysj+172800  and t3.jydfzkh!=t1.cxkh and             t3.jydfzkh!=t2.cxkh and t3.jydfzkh!=t3.cxkh            left JOIN            (select cxkh,jymc,jysj,jyje,jydfzkh,jydfmc,stamp_jysj  from  df_all_lianlu_chu )t4            on t3.jydfmc=t4.jymc and t4.jyje between t3.jyje*0.5 and t3.jyje*1.5            and t4.stamp_jysj between t3.stamp_jysj and t3.stamp_jysj+172800  and t4.jydfzkh=t1.cxkh and t4.jydfzkh!=t2.cxkh and t4.jydfzkh!=t3.cxkh and t4.jydfzkh!=t4.cxkh            left JOIN            (select cxkh,jymc,jysj,jyje,jydfzkh,jydfmc,stamp_jysj from  df_all_lianlu_chu)t5            on t4.jydfmc=t5.jymc and t5.jyje between t4.jyje*0.5 and t4.jyje*1.5            and t5.stamp_jysj between t4.stamp_jysj and t4.stamp_jysj+172800  and t5.jydfzkh!=t1.cxkh and t5.jydfzkh!=t2.cxkh and  t5.jydfzkh!=t3.cxkh             and  t5.jydfzkh!=t4.cxkh and t5.jydfzkh!=t5.cxkh)t\n",
      "第---- 4 -----------个，总共 15 个\n",
      "select * from (    select t1.jymc yicmc,t1.cxkh yiczh,t1.jysj yicsj,t1.jyje yicje,t1.jydfmc ercmc, t1.jydfzkh erckh,           t2.jysj ercsj,t2.jyje ercje,t2.jydfmc sancmc,t2.jydfzkh sanckh,           t3.jysj sancsj,t3.jyje sancje,t3.jydfmc sicmc,t3.jydfzkh sickh,           t4.jysj sicsj,t4.jyje sicje,t4.jydfmc wucmc,t4.jydfzkh wuckh,           t5.jysj wucsj,t5.jyje wucje,t5.jydfmc liucmc,t5.jydfzkh liuckh             from             (select cxkh,jymc,jysj,jyje,jydfzkh,jydfmc,stamp_jysj from  df_all_lianlu_chu where jymc='大同市政建设集团有限公司' )t1            left join            (select cxkh,jymc,jysj,jyje,jydfzkh,jydfmc,stamp_jysj from df_all_lianlu_chu )t2            on t1.jydfzkh=t2.cxkh and t2.jyje between t1.jyje*0.5 and t1.jyje*1.5             and t2.stamp_jysj between t1.stamp_jysj and t1.stamp_jysj+172800 and t2.jydfzkh!=t1.cxkh and t2.jydfzkh!=t2.cxkh            left JOIN            (select cxkh,jymc,jysj,jyje,jydfzkh,jydfmc,stamp_jysj from  df_all_lianlu_chu  )t3            on t2.jydfzkh=t3.cxkh and t3.jyje between t2.jyje*0.5 and t2.jyje*1.5            and t3.stamp_jysj between t2.stamp_jysj and t2.stamp_jysj+172800  and t3.jydfzkh!=t1.cxkh and             t3.jydfzkh!=t2.cxkh and t3.jydfzkh!=t3.cxkh            left JOIN            (select cxkh,jymc,jysj,jyje,jydfzkh,jydfmc,stamp_jysj  from  df_all_lianlu_chu )t4            on t3.jydfmc=t4.jymc and t4.jyje between t3.jyje*0.5 and t3.jyje*1.5            and t4.stamp_jysj between t3.stamp_jysj and t3.stamp_jysj+172800  and t4.jydfzkh=t1.cxkh and t4.jydfzkh!=t2.cxkh and t4.jydfzkh!=t3.cxkh and t4.jydfzkh!=t4.cxkh            left JOIN            (select cxkh,jymc,jysj,jyje,jydfzkh,jydfmc,stamp_jysj from  df_all_lianlu_chu)t5            on t4.jydfmc=t5.jymc and t5.jyje between t4.jyje*0.5 and t4.jyje*1.5            and t5.stamp_jysj between t4.stamp_jysj and t4.stamp_jysj+172800  and t5.jydfzkh!=t1.cxkh and t5.jydfzkh!=t2.cxkh and  t5.jydfzkh!=t3.cxkh             and  t5.jydfzkh!=t4.cxkh and t5.jydfzkh!=t5.cxkh)t\n"
     ]
    },
    {
     "name": "stdout",
     "output_type": "stream",
     "text": [
      "第---- 5 -----------个，总共 15 个\n",
      "select * from (    select t1.jymc yicmc,t1.cxkh yiczh,t1.jysj yicsj,t1.jyje yicje,t1.jydfmc ercmc, t1.jydfzkh erckh,           t2.jysj ercsj,t2.jyje ercje,t2.jydfmc sancmc,t2.jydfzkh sanckh,           t3.jysj sancsj,t3.jyje sancje,t3.jydfmc sicmc,t3.jydfzkh sickh,           t4.jysj sicsj,t4.jyje sicje,t4.jydfmc wucmc,t4.jydfzkh wuckh,           t5.jysj wucsj,t5.jyje wucje,t5.jydfmc liucmc,t5.jydfzkh liuckh             from             (select cxkh,jymc,jysj,jyje,jydfzkh,jydfmc,stamp_jysj from  df_all_lianlu_chu where jymc='吕梁市建筑安装总公司第二工程处' )t1            left join            (select cxkh,jymc,jysj,jyje,jydfzkh,jydfmc,stamp_jysj from df_all_lianlu_chu )t2            on t1.jydfzkh=t2.cxkh and t2.jyje between t1.jyje*0.5 and t1.jyje*1.5             and t2.stamp_jysj between t1.stamp_jysj and t1.stamp_jysj+172800 and t2.jydfzkh!=t1.cxkh and t2.jydfzkh!=t2.cxkh            left JOIN            (select cxkh,jymc,jysj,jyje,jydfzkh,jydfmc,stamp_jysj from  df_all_lianlu_chu  )t3            on t2.jydfzkh=t3.cxkh and t3.jyje between t2.jyje*0.5 and t2.jyje*1.5            and t3.stamp_jysj between t2.stamp_jysj and t2.stamp_jysj+172800  and t3.jydfzkh!=t1.cxkh and             t3.jydfzkh!=t2.cxkh and t3.jydfzkh!=t3.cxkh            left JOIN            (select cxkh,jymc,jysj,jyje,jydfzkh,jydfmc,stamp_jysj  from  df_all_lianlu_chu )t4            on t3.jydfmc=t4.jymc and t4.jyje between t3.jyje*0.5 and t3.jyje*1.5            and t4.stamp_jysj between t3.stamp_jysj and t3.stamp_jysj+172800  and t4.jydfzkh=t1.cxkh and t4.jydfzkh!=t2.cxkh and t4.jydfzkh!=t3.cxkh and t4.jydfzkh!=t4.cxkh            left JOIN            (select cxkh,jymc,jysj,jyje,jydfzkh,jydfmc,stamp_jysj from  df_all_lianlu_chu)t5            on t4.jydfmc=t5.jymc and t5.jyje between t4.jyje*0.5 and t4.jyje*1.5            and t5.stamp_jysj between t4.stamp_jysj and t4.stamp_jysj+172800  and t5.jydfzkh!=t1.cxkh and t5.jydfzkh!=t2.cxkh and  t5.jydfzkh!=t3.cxkh             and  t5.jydfzkh!=t4.cxkh and t5.jydfzkh!=t5.cxkh)t\n",
      "第---- 6 -----------个，总共 15 个\n",
      "select * from (    select t1.jymc yicmc,t1.cxkh yiczh,t1.jysj yicsj,t1.jyje yicje,t1.jydfmc ercmc, t1.jydfzkh erckh,           t2.jysj ercsj,t2.jyje ercje,t2.jydfmc sancmc,t2.jydfzkh sanckh,           t3.jysj sancsj,t3.jyje sancje,t3.jydfmc sicmc,t3.jydfzkh sickh,           t4.jysj sicsj,t4.jyje sicje,t4.jydfmc wucmc,t4.jydfzkh wuckh,           t5.jysj wucsj,t5.jyje wucje,t5.jydfmc liucmc,t5.jydfzkh liuckh             from             (select cxkh,jymc,jysj,jyje,jydfzkh,jydfmc,stamp_jysj from  df_all_lianlu_chu where jymc='吕梁市建筑安装总公司第一工程处' )t1            left join            (select cxkh,jymc,jysj,jyje,jydfzkh,jydfmc,stamp_jysj from df_all_lianlu_chu )t2            on t1.jydfzkh=t2.cxkh and t2.jyje between t1.jyje*0.5 and t1.jyje*1.5             and t2.stamp_jysj between t1.stamp_jysj and t1.stamp_jysj+172800 and t2.jydfzkh!=t1.cxkh and t2.jydfzkh!=t2.cxkh            left JOIN            (select cxkh,jymc,jysj,jyje,jydfzkh,jydfmc,stamp_jysj from  df_all_lianlu_chu  )t3            on t2.jydfzkh=t3.cxkh and t3.jyje between t2.jyje*0.5 and t2.jyje*1.5            and t3.stamp_jysj between t2.stamp_jysj and t2.stamp_jysj+172800  and t3.jydfzkh!=t1.cxkh and             t3.jydfzkh!=t2.cxkh and t3.jydfzkh!=t3.cxkh            left JOIN            (select cxkh,jymc,jysj,jyje,jydfzkh,jydfmc,stamp_jysj  from  df_all_lianlu_chu )t4            on t3.jydfmc=t4.jymc and t4.jyje between t3.jyje*0.5 and t3.jyje*1.5            and t4.stamp_jysj between t3.stamp_jysj and t3.stamp_jysj+172800  and t4.jydfzkh=t1.cxkh and t4.jydfzkh!=t2.cxkh and t4.jydfzkh!=t3.cxkh and t4.jydfzkh!=t4.cxkh            left JOIN            (select cxkh,jymc,jysj,jyje,jydfzkh,jydfmc,stamp_jysj from  df_all_lianlu_chu)t5            on t4.jydfmc=t5.jymc and t5.jyje between t4.jyje*0.5 and t4.jyje*1.5            and t5.stamp_jysj between t4.stamp_jysj and t4.stamp_jysj+172800  and t5.jydfzkh!=t1.cxkh and t5.jydfzkh!=t2.cxkh and  t5.jydfzkh!=t3.cxkh             and  t5.jydfzkh!=t4.cxkh and t5.jydfzkh!=t5.cxkh)t\n",
      "第---- 7 -----------个，总共 15 个\n",
      "select * from (    select t1.jymc yicmc,t1.cxkh yiczh,t1.jysj yicsj,t1.jyje yicje,t1.jydfmc ercmc, t1.jydfzkh erckh,           t2.jysj ercsj,t2.jyje ercje,t2.jydfmc sancmc,t2.jydfzkh sanckh,           t3.jysj sancsj,t3.jyje sancje,t3.jydfmc sicmc,t3.jydfzkh sickh,           t4.jysj sicsj,t4.jyje sicje,t4.jydfmc wucmc,t4.jydfzkh wuckh,           t5.jysj wucsj,t5.jyje wucje,t5.jydfmc liucmc,t5.jydfzkh liuckh             from             (select cxkh,jymc,jysj,jyje,jydfzkh,jydfmc,stamp_jysj from  df_all_lianlu_chu where jymc='吕梁市建筑安装总公司建筑安装工程处' )t1            left join            (select cxkh,jymc,jysj,jyje,jydfzkh,jydfmc,stamp_jysj from df_all_lianlu_chu )t2            on t1.jydfzkh=t2.cxkh and t2.jyje between t1.jyje*0.5 and t1.jyje*1.5             and t2.stamp_jysj between t1.stamp_jysj and t1.stamp_jysj+172800 and t2.jydfzkh!=t1.cxkh and t2.jydfzkh!=t2.cxkh            left JOIN            (select cxkh,jymc,jysj,jyje,jydfzkh,jydfmc,stamp_jysj from  df_all_lianlu_chu  )t3            on t2.jydfzkh=t3.cxkh and t3.jyje between t2.jyje*0.5 and t2.jyje*1.5            and t3.stamp_jysj between t2.stamp_jysj and t2.stamp_jysj+172800  and t3.jydfzkh!=t1.cxkh and             t3.jydfzkh!=t2.cxkh and t3.jydfzkh!=t3.cxkh            left JOIN            (select cxkh,jymc,jysj,jyje,jydfzkh,jydfmc,stamp_jysj  from  df_all_lianlu_chu )t4            on t3.jydfmc=t4.jymc and t4.jyje between t3.jyje*0.5 and t3.jyje*1.5            and t4.stamp_jysj between t3.stamp_jysj and t3.stamp_jysj+172800  and t4.jydfzkh=t1.cxkh and t4.jydfzkh!=t2.cxkh and t4.jydfzkh!=t3.cxkh and t4.jydfzkh!=t4.cxkh            left JOIN            (select cxkh,jymc,jysj,jyje,jydfzkh,jydfmc,stamp_jysj from  df_all_lianlu_chu)t5            on t4.jydfmc=t5.jymc and t5.jyje between t4.jyje*0.5 and t4.jyje*1.5            and t5.stamp_jysj between t4.stamp_jysj and t4.stamp_jysj+172800  and t5.jydfzkh!=t1.cxkh and t5.jydfzkh!=t2.cxkh and  t5.jydfzkh!=t3.cxkh             and  t5.jydfzkh!=t4.cxkh and t5.jydfzkh!=t5.cxkh)t\n",
      "第---- 8 -----------个，总共 15 个\n",
      "select * from (    select t1.jymc yicmc,t1.cxkh yiczh,t1.jysj yicsj,t1.jyje yicje,t1.jydfmc ercmc, t1.jydfzkh erckh,           t2.jysj ercsj,t2.jyje ercje,t2.jydfmc sancmc,t2.jydfzkh sanckh,           t3.jysj sancsj,t3.jyje sancje,t3.jydfmc sicmc,t3.jydfzkh sickh,           t4.jysj sicsj,t4.jyje sicje,t4.jydfmc wucmc,t4.jydfzkh wuckh,           t5.jysj wucsj,t5.jyje wucje,t5.jydfmc liucmc,t5.jydfzkh liuckh             from             (select cxkh,jymc,jysj,jyje,jydfzkh,jydfmc,stamp_jysj from  df_all_lianlu_chu where jymc='大同市政建设集团有限公司吕梁项目部' )t1            left join            (select cxkh,jymc,jysj,jyje,jydfzkh,jydfmc,stamp_jysj from df_all_lianlu_chu )t2            on t1.jydfzkh=t2.cxkh and t2.jyje between t1.jyje*0.5 and t1.jyje*1.5             and t2.stamp_jysj between t1.stamp_jysj and t1.stamp_jysj+172800 and t2.jydfzkh!=t1.cxkh and t2.jydfzkh!=t2.cxkh            left JOIN            (select cxkh,jymc,jysj,jyje,jydfzkh,jydfmc,stamp_jysj from  df_all_lianlu_chu  )t3            on t2.jydfzkh=t3.cxkh and t3.jyje between t2.jyje*0.5 and t2.jyje*1.5            and t3.stamp_jysj between t2.stamp_jysj and t2.stamp_jysj+172800  and t3.jydfzkh!=t1.cxkh and             t3.jydfzkh!=t2.cxkh and t3.jydfzkh!=t3.cxkh            left JOIN            (select cxkh,jymc,jysj,jyje,jydfzkh,jydfmc,stamp_jysj  from  df_all_lianlu_chu )t4            on t3.jydfmc=t4.jymc and t4.jyje between t3.jyje*0.5 and t3.jyje*1.5            and t4.stamp_jysj between t3.stamp_jysj and t3.stamp_jysj+172800  and t4.jydfzkh=t1.cxkh and t4.jydfzkh!=t2.cxkh and t4.jydfzkh!=t3.cxkh and t4.jydfzkh!=t4.cxkh            left JOIN            (select cxkh,jymc,jysj,jyje,jydfzkh,jydfmc,stamp_jysj from  df_all_lianlu_chu)t5            on t4.jydfmc=t5.jymc and t5.jyje between t4.jyje*0.5 and t4.jyje*1.5            and t5.stamp_jysj between t4.stamp_jysj and t4.stamp_jysj+172800  and t5.jydfzkh!=t1.cxkh and t5.jydfzkh!=t2.cxkh and  t5.jydfzkh!=t3.cxkh             and  t5.jydfzkh!=t4.cxkh and t5.jydfzkh!=t5.cxkh)t\n",
      "第---- 9 -----------个，总共 15 个\n",
      "select * from (    select t1.jymc yicmc,t1.cxkh yiczh,t1.jysj yicsj,t1.jyje yicje,t1.jydfmc ercmc, t1.jydfzkh erckh,           t2.jysj ercsj,t2.jyje ercje,t2.jydfmc sancmc,t2.jydfzkh sanckh,           t3.jysj sancsj,t3.jyje sancje,t3.jydfmc sicmc,t3.jydfzkh sickh,           t4.jysj sicsj,t4.jyje sicje,t4.jydfmc wucmc,t4.jydfzkh wuckh,           t5.jysj wucsj,t5.jyje wucje,t5.jydfmc liucmc,t5.jydfzkh liuckh             from             (select cxkh,jymc,jysj,jyje,jydfzkh,jydfmc,stamp_jysj from  df_all_lianlu_chu where jymc='大同市政建集团有限公司' )t1            left join            (select cxkh,jymc,jysj,jyje,jydfzkh,jydfmc,stamp_jysj from df_all_lianlu_chu )t2            on t1.jydfzkh=t2.cxkh and t2.jyje between t1.jyje*0.5 and t1.jyje*1.5             and t2.stamp_jysj between t1.stamp_jysj and t1.stamp_jysj+172800 and t2.jydfzkh!=t1.cxkh and t2.jydfzkh!=t2.cxkh            left JOIN            (select cxkh,jymc,jysj,jyje,jydfzkh,jydfmc,stamp_jysj from  df_all_lianlu_chu  )t3            on t2.jydfzkh=t3.cxkh and t3.jyje between t2.jyje*0.5 and t2.jyje*1.5            and t3.stamp_jysj between t2.stamp_jysj and t2.stamp_jysj+172800  and t3.jydfzkh!=t1.cxkh and             t3.jydfzkh!=t2.cxkh and t3.jydfzkh!=t3.cxkh            left JOIN            (select cxkh,jymc,jysj,jyje,jydfzkh,jydfmc,stamp_jysj  from  df_all_lianlu_chu )t4            on t3.jydfmc=t4.jymc and t4.jyje between t3.jyje*0.5 and t3.jyje*1.5            and t4.stamp_jysj between t3.stamp_jysj and t3.stamp_jysj+172800  and t4.jydfzkh=t1.cxkh and t4.jydfzkh!=t2.cxkh and t4.jydfzkh!=t3.cxkh and t4.jydfzkh!=t4.cxkh            left JOIN            (select cxkh,jymc,jysj,jyje,jydfzkh,jydfmc,stamp_jysj from  df_all_lianlu_chu)t5            on t4.jydfmc=t5.jymc and t5.jyje between t4.jyje*0.5 and t4.jyje*1.5            and t5.stamp_jysj between t4.stamp_jysj and t4.stamp_jysj+172800  and t5.jydfzkh!=t1.cxkh and t5.jydfzkh!=t2.cxkh and  t5.jydfzkh!=t3.cxkh             and  t5.jydfzkh!=t4.cxkh and t5.jydfzkh!=t5.cxkh)t\n"
     ]
    },
    {
     "name": "stdout",
     "output_type": "stream",
     "text": [
      "第---- 10 -----------个，总共 15 个\n",
      "select * from (    select t1.jymc yicmc,t1.cxkh yiczh,t1.jysj yicsj,t1.jyje yicje,t1.jydfmc ercmc, t1.jydfzkh erckh,           t2.jysj ercsj,t2.jyje ercje,t2.jydfmc sancmc,t2.jydfzkh sanckh,           t3.jysj sancsj,t3.jyje sancje,t3.jydfmc sicmc,t3.jydfzkh sickh,           t4.jysj sicsj,t4.jyje sicje,t4.jydfmc wucmc,t4.jydfzkh wuckh,           t5.jysj wucsj,t5.jyje wucje,t5.jydfmc liucmc,t5.jydfzkh liuckh             from             (select cxkh,jymc,jysj,jyje,jydfzkh,jydfmc,stamp_jysj from  df_all_lianlu_chu where jymc='大同市世正建设有限公司吕梁公司' )t1            left join            (select cxkh,jymc,jysj,jyje,jydfzkh,jydfmc,stamp_jysj from df_all_lianlu_chu )t2            on t1.jydfzkh=t2.cxkh and t2.jyje between t1.jyje*0.5 and t1.jyje*1.5             and t2.stamp_jysj between t1.stamp_jysj and t1.stamp_jysj+172800 and t2.jydfzkh!=t1.cxkh and t2.jydfzkh!=t2.cxkh            left JOIN            (select cxkh,jymc,jysj,jyje,jydfzkh,jydfmc,stamp_jysj from  df_all_lianlu_chu  )t3            on t2.jydfzkh=t3.cxkh and t3.jyje between t2.jyje*0.5 and t2.jyje*1.5            and t3.stamp_jysj between t2.stamp_jysj and t2.stamp_jysj+172800  and t3.jydfzkh!=t1.cxkh and             t3.jydfzkh!=t2.cxkh and t3.jydfzkh!=t3.cxkh            left JOIN            (select cxkh,jymc,jysj,jyje,jydfzkh,jydfmc,stamp_jysj  from  df_all_lianlu_chu )t4            on t3.jydfmc=t4.jymc and t4.jyje between t3.jyje*0.5 and t3.jyje*1.5            and t4.stamp_jysj between t3.stamp_jysj and t3.stamp_jysj+172800  and t4.jydfzkh=t1.cxkh and t4.jydfzkh!=t2.cxkh and t4.jydfzkh!=t3.cxkh and t4.jydfzkh!=t4.cxkh            left JOIN            (select cxkh,jymc,jysj,jyje,jydfzkh,jydfmc,stamp_jysj from  df_all_lianlu_chu)t5            on t4.jydfmc=t5.jymc and t5.jyje between t4.jyje*0.5 and t4.jyje*1.5            and t5.stamp_jysj between t4.stamp_jysj and t4.stamp_jysj+172800  and t5.jydfzkh!=t1.cxkh and t5.jydfzkh!=t2.cxkh and  t5.jydfzkh!=t3.cxkh             and  t5.jydfzkh!=t4.cxkh and t5.jydfzkh!=t5.cxkh)t\n",
      "第---- 11 -----------个，总共 15 个\n",
      "select * from (    select t1.jymc yicmc,t1.cxkh yiczh,t1.jysj yicsj,t1.jyje yicje,t1.jydfmc ercmc, t1.jydfzkh erckh,           t2.jysj ercsj,t2.jyje ercje,t2.jydfmc sancmc,t2.jydfzkh sanckh,           t3.jysj sancsj,t3.jyje sancje,t3.jydfmc sicmc,t3.jydfzkh sickh,           t4.jysj sicsj,t4.jyje sicje,t4.jydfmc wucmc,t4.jydfzkh wuckh,           t5.jysj wucsj,t5.jyje wucje,t5.jydfmc liucmc,t5.jydfzkh liuckh             from             (select cxkh,jymc,jysj,jyje,jydfzkh,jydfmc,stamp_jysj from  df_all_lianlu_chu where jymc='吕梁市建筑安装总公司直属五工程处' )t1            left join            (select cxkh,jymc,jysj,jyje,jydfzkh,jydfmc,stamp_jysj from df_all_lianlu_chu )t2            on t1.jydfzkh=t2.cxkh and t2.jyje between t1.jyje*0.5 and t1.jyje*1.5             and t2.stamp_jysj between t1.stamp_jysj and t1.stamp_jysj+172800 and t2.jydfzkh!=t1.cxkh and t2.jydfzkh!=t2.cxkh            left JOIN            (select cxkh,jymc,jysj,jyje,jydfzkh,jydfmc,stamp_jysj from  df_all_lianlu_chu  )t3            on t2.jydfzkh=t3.cxkh and t3.jyje between t2.jyje*0.5 and t2.jyje*1.5            and t3.stamp_jysj between t2.stamp_jysj and t2.stamp_jysj+172800  and t3.jydfzkh!=t1.cxkh and             t3.jydfzkh!=t2.cxkh and t3.jydfzkh!=t3.cxkh            left JOIN            (select cxkh,jymc,jysj,jyje,jydfzkh,jydfmc,stamp_jysj  from  df_all_lianlu_chu )t4            on t3.jydfmc=t4.jymc and t4.jyje between t3.jyje*0.5 and t3.jyje*1.5            and t4.stamp_jysj between t3.stamp_jysj and t3.stamp_jysj+172800  and t4.jydfzkh=t1.cxkh and t4.jydfzkh!=t2.cxkh and t4.jydfzkh!=t3.cxkh and t4.jydfzkh!=t4.cxkh            left JOIN            (select cxkh,jymc,jysj,jyje,jydfzkh,jydfmc,stamp_jysj from  df_all_lianlu_chu)t5            on t4.jydfmc=t5.jymc and t5.jyje between t4.jyje*0.5 and t4.jyje*1.5            and t5.stamp_jysj between t4.stamp_jysj and t4.stamp_jysj+172800  and t5.jydfzkh!=t1.cxkh and t5.jydfzkh!=t2.cxkh and  t5.jydfzkh!=t3.cxkh             and  t5.jydfzkh!=t4.cxkh and t5.jydfzkh!=t5.cxkh)t\n",
      "第---- 1 -----------个，总共 15 个\n",
      "select * from (    select t1.jymc yicmc,t1.cxkh yiczh,t1.jysj yicsj,t1.jyje yicje,t1.jydfmc ercmc, t1.jydfzkh erckh,           t2.jysj ercsj,t2.jyje ercje,t2.jydfmc sancmc,t2.jydfzkh sanckh,           t3.jysj sancsj,t3.jyje sancje,t3.jydfmc sicmc,t3.jydfzkh sickh,           t4.jysj sicsj,t4.jyje sicje,t4.jydfmc wucmc,t4.jydfzkh wuckh,           t5.jysj wucsj,t5.jyje wucje,t5.jydfmc liucmc,t5.jydfzkh liuckh             from             (select cxkh,jymc,jysj,jyje,jydfzkh,jydfmc,stamp_jysj from  df_all_lianlu_chu where jymc='吕梁市建筑安装总公司第四工程处' )t1            left join            (select cxkh,jymc,jysj,jyje,jydfzkh,jydfmc,stamp_jysj from df_all_lianlu_chu )t2            on t1.jydfzkh=t2.cxkh and t2.jyje between t1.jyje*0.5 and t1.jyje*1.5             and t2.stamp_jysj between t1.stamp_jysj and t1.stamp_jysj+172800 and t2.jydfzkh!=t1.cxkh and t2.jydfzkh!=t2.cxkh            left JOIN            (select cxkh,jymc,jysj,jyje,jydfzkh,jydfmc,stamp_jysj from  df_all_lianlu_chu  )t3            on t2.jydfzkh=t3.cxkh and t3.jyje between t2.jyje*0.5 and t2.jyje*1.5            and t3.stamp_jysj between t2.stamp_jysj and t2.stamp_jysj+172800  and t3.jydfzkh!=t1.cxkh and             t3.jydfzkh!=t2.cxkh and t3.jydfzkh!=t3.cxkh            left JOIN            (select cxkh,jymc,jysj,jyje,jydfzkh,jydfmc,stamp_jysj  from  df_all_lianlu_chu )t4            on t3.jydfmc=t4.jymc and t4.jyje between t3.jyje*0.5 and t3.jyje*1.5            and t4.stamp_jysj between t3.stamp_jysj and t3.stamp_jysj+172800  and t4.jydfzkh=t1.cxkh and t4.jydfzkh!=t2.cxkh and t4.jydfzkh!=t3.cxkh and t4.jydfzkh!=t4.cxkh            left JOIN            (select cxkh,jymc,jysj,jyje,jydfzkh,jydfmc,stamp_jysj from  df_all_lianlu_chu)t5            on t4.jydfmc=t5.jymc and t5.jyje between t4.jyje*0.5 and t4.jyje*1.5            and t5.stamp_jysj between t4.stamp_jysj and t4.stamp_jysj+172800  and t5.jydfzkh!=t1.cxkh and t5.jydfzkh!=t2.cxkh and  t5.jydfzkh!=t3.cxkh             and  t5.jydfzkh!=t4.cxkh and t5.jydfzkh!=t5.cxkh)t\n",
      "第---- 13 -----------个，总共 15 个\n",
      "select * from (    select t1.jymc yicmc,t1.cxkh yiczh,t1.jysj yicsj,t1.jyje yicje,t1.jydfmc ercmc, t1.jydfzkh erckh,           t2.jysj ercsj,t2.jyje ercje,t2.jydfmc sancmc,t2.jydfzkh sanckh,           t3.jysj sancsj,t3.jyje sancje,t3.jydfmc sicmc,t3.jydfzkh sickh,           t4.jysj sicsj,t4.jyje sicje,t4.jydfmc wucmc,t4.jydfzkh wuckh,           t5.jysj wucsj,t5.jyje wucje,t5.jydfmc liucmc,t5.jydfzkh liuckh             from             (select cxkh,jymc,jysj,jyje,jydfzkh,jydfmc,stamp_jysj from  df_all_lianlu_chu where jymc='吕梁市建筑安装总公司直属三工程处' )t1            left join            (select cxkh,jymc,jysj,jyje,jydfzkh,jydfmc,stamp_jysj from df_all_lianlu_chu )t2            on t1.jydfzkh=t2.cxkh and t2.jyje between t1.jyje*0.5 and t1.jyje*1.5             and t2.stamp_jysj between t1.stamp_jysj and t1.stamp_jysj+172800 and t2.jydfzkh!=t1.cxkh and t2.jydfzkh!=t2.cxkh            left JOIN            (select cxkh,jymc,jysj,jyje,jydfzkh,jydfmc,stamp_jysj from  df_all_lianlu_chu  )t3            on t2.jydfzkh=t3.cxkh and t3.jyje between t2.jyje*0.5 and t2.jyje*1.5            and t3.stamp_jysj between t2.stamp_jysj and t2.stamp_jysj+172800  and t3.jydfzkh!=t1.cxkh and             t3.jydfzkh!=t2.cxkh and t3.jydfzkh!=t3.cxkh            left JOIN            (select cxkh,jymc,jysj,jyje,jydfzkh,jydfmc,stamp_jysj  from  df_all_lianlu_chu )t4            on t3.jydfmc=t4.jymc and t4.jyje between t3.jyje*0.5 and t3.jyje*1.5            and t4.stamp_jysj between t3.stamp_jysj and t3.stamp_jysj+172800  and t4.jydfzkh=t1.cxkh and t4.jydfzkh!=t2.cxkh and t4.jydfzkh!=t3.cxkh and t4.jydfzkh!=t4.cxkh            left JOIN            (select cxkh,jymc,jysj,jyje,jydfzkh,jydfmc,stamp_jysj from  df_all_lianlu_chu)t5            on t4.jydfmc=t5.jymc and t5.jyje between t4.jyje*0.5 and t4.jyje*1.5            and t5.stamp_jysj between t4.stamp_jysj and t4.stamp_jysj+172800  and t5.jydfzkh!=t1.cxkh and t5.jydfzkh!=t2.cxkh and  t5.jydfzkh!=t3.cxkh             and  t5.jydfzkh!=t4.cxkh and t5.jydfzkh!=t5.cxkh)t\n",
      "第---- 14 -----------个，总共 15 个\n",
      "select * from (    select t1.jymc yicmc,t1.cxkh yiczh,t1.jysj yicsj,t1.jyje yicje,t1.jydfmc ercmc, t1.jydfzkh erckh,           t2.jysj ercsj,t2.jyje ercje,t2.jydfmc sancmc,t2.jydfzkh sanckh,           t3.jysj sancsj,t3.jyje sancje,t3.jydfmc sicmc,t3.jydfzkh sickh,           t4.jysj sicsj,t4.jyje sicje,t4.jydfmc wucmc,t4.jydfzkh wuckh,           t5.jysj wucsj,t5.jyje wucje,t5.jydfmc liucmc,t5.jydfzkh liuckh             from             (select cxkh,jymc,jysj,jyje,jydfzkh,jydfmc,stamp_jysj from  df_all_lianlu_chu where jymc='吕梁市建筑安装总公司直属一工程处' )t1            left join            (select cxkh,jymc,jysj,jyje,jydfzkh,jydfmc,stamp_jysj from df_all_lianlu_chu )t2            on t1.jydfzkh=t2.cxkh and t2.jyje between t1.jyje*0.5 and t1.jyje*1.5             and t2.stamp_jysj between t1.stamp_jysj and t1.stamp_jysj+172800 and t2.jydfzkh!=t1.cxkh and t2.jydfzkh!=t2.cxkh            left JOIN            (select cxkh,jymc,jysj,jyje,jydfzkh,jydfmc,stamp_jysj from  df_all_lianlu_chu  )t3            on t2.jydfzkh=t3.cxkh and t3.jyje between t2.jyje*0.5 and t2.jyje*1.5            and t3.stamp_jysj between t2.stamp_jysj and t2.stamp_jysj+172800  and t3.jydfzkh!=t1.cxkh and             t3.jydfzkh!=t2.cxkh and t3.jydfzkh!=t3.cxkh            left JOIN            (select cxkh,jymc,jysj,jyje,jydfzkh,jydfmc,stamp_jysj  from  df_all_lianlu_chu )t4            on t3.jydfmc=t4.jymc and t4.jyje between t3.jyje*0.5 and t3.jyje*1.5            and t4.stamp_jysj between t3.stamp_jysj and t3.stamp_jysj+172800  and t4.jydfzkh=t1.cxkh and t4.jydfzkh!=t2.cxkh and t4.jydfzkh!=t3.cxkh and t4.jydfzkh!=t4.cxkh            left JOIN            (select cxkh,jymc,jysj,jyje,jydfzkh,jydfmc,stamp_jysj from  df_all_lianlu_chu)t5            on t4.jydfmc=t5.jymc and t5.jyje between t4.jyje*0.5 and t4.jyje*1.5            and t5.stamp_jysj between t4.stamp_jysj and t4.stamp_jysj+172800  and t5.jydfzkh!=t1.cxkh and t5.jydfzkh!=t2.cxkh and  t5.jydfzkh!=t3.cxkh             and  t5.jydfzkh!=t4.cxkh and t5.jydfzkh!=t5.cxkh)t\n"
     ]
    }
   ],
   "source": [
    "jymc_list=[\"新蒲建设集团有限公司太原分公司\",\n",
    "\"吕梁市建筑安装总公司第四工程处\",\n",
    "\"吕梁市浩珈混凝土有限公司\",\n",
    "\"吕梁浩弘商贸有限公司\",\n",
    "\"大同市政建设集团有限公司\",\n",
    "\"吕梁市建筑安装总公司第二工程处\",\n",
    "\"吕梁市建筑安装总公司第一工程处\",\n",
    "\"吕梁市建筑安装总公司建筑安装工程处\",\n",
    "\"大同市政建设集团有限公司吕梁项目部\",\n",
    "\"大同市政建集团有限公司\",\n",
    "\"大同市世正建设有限公司吕梁公司\",\n",
    "\"吕梁市建筑安装总公司直属五工程处\",\n",
    "\"吕梁市建筑安装总公司第四工程处\",\n",
    "\"吕梁市建筑安装总公司直属三工程处\",\n",
    "\"吕梁市建筑安装总公司直属一工程处\"]\n",
    "df_list=[]\n",
    "for i in jymc_list:\n",
    "    print('第----',jymc_list.index(i),'-----------个，总共',len(jymc_list),'个')\n",
    "    df_list.append(select(i,\" df_all_lianlu_chu\"))\n",
    "    "
   ]
  },
  {
   "cell_type": "code",
   "execution_count": 27,
   "metadata": {},
   "outputs": [],
   "source": [
    "df1_list=[i for i in df_list if len(i)!=0]\n"
   ]
  },
  {
   "cell_type": "code",
   "execution_count": 28,
   "metadata": {},
   "outputs": [],
   "source": [
    "df_data=[]\n",
    "for i in df1_list:\n",
    "    for j in i:\n",
    "        df_data.append(j)"
   ]
  },
  {
   "cell_type": "code",
   "execution_count": 29,
   "metadata": {},
   "outputs": [],
   "source": [
    "import numpy as np\n",
    "import pandas as pd\n",
    "col=['起点名称','起点卡号','起点时间','起点金额','一层名称','一层卡号','一层时间','一层金额','二层名称','二层卡号','二层时间','二层金额','三层名称','三层卡号','三层时间','三层金额','四层名称','四层卡号','四层时间','四层金额','五层名称','五层卡号']"
   ]
  },
  {
   "cell_type": "code",
   "execution_count": 30,
   "metadata": {},
   "outputs": [
    {
     "data": {
      "text/plain": [
       "(84, 22)"
      ]
     },
     "execution_count": 30,
     "metadata": {},
     "output_type": "execute_result"
    }
   ],
   "source": [
    "dd=pd.DataFrame(np.array(df_data),columns=col).drop_duplicates()\n",
    "dd1=dd[dd['一层名称'].str.contains('崔新平|任志强|高明明|胡静|韩晶|王震|杨晓龙')==True]\n",
    "dd1.shape"
   ]
  },
  {
   "cell_type": "code",
   "execution_count": null,
   "metadata": {},
   "outputs": [],
   "source": [
    "dd1.to_excel('c://users//jxh//desktop//20200416/主要人员去向明细.xlsx',encoding='utf-8',index=False)"
   ]
  }
 ],
 "metadata": {
  "kernelspec": {
   "display_name": "Python 3",
   "language": "python",
   "name": "python3"
  },
  "language_info": {
   "codemirror_mode": {
    "name": "ipython",
    "version": 3
   },
   "file_extension": ".py",
   "mimetype": "text/x-python",
   "name": "python",
   "nbconvert_exporter": "python",
   "pygments_lexer": "ipython3",
   "version": "3.7.6"
  }
 },
 "nbformat": 4,
 "nbformat_minor": 2
}
