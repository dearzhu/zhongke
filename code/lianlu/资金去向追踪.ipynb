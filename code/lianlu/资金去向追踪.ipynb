{
 "cells": [
  {
   "cell_type": "code",
   "execution_count": 19,
   "metadata": {},
   "outputs": [],
   "source": [
    "import pymysql as ps\n",
    "import re\n",
    "import xlrd\n",
    "import pandas as pd\n",
    "import numpy as np\n",
    "\n",
    "db_host = 'localhost'\n",
    "db_user = 'root'\n",
    "db_pwd = '521521'\n",
    "db_name = 'sxzy'\n",
    "char_type = 'utf-8'\n",
    "db = ps.connect(db_host, db_user, db_pwd, db_name, charset='utf8')\n",
    "couser = db.cursor()"
   ]
  },
  {
   "cell_type": "code",
   "execution_count": 20,
   "metadata": {},
   "outputs": [],
   "source": [
    "sql='select jymc from person_info'\n",
    "couser.execute(sql)\n",
    "rows = couser.fetchall()\n",
    "jymc_list=[i[0] for i in rows]"
   ]
  },
  {
   "cell_type": "code",
   "execution_count": null,
   "metadata": {},
   "outputs": [],
   "source": []
  },
  {
   "cell_type": "code",
   "execution_count": 21,
   "metadata": {},
   "outputs": [],
   "source": [
    "\n",
    "def select(jymc):\n",
    "    sql = 'select * from (\\\n",
    "    select t1.jymc yicmc,t1.cxkh yiczh,t1.jysj yicsj,t1.jyje yicje,t1.jydfmc ercmc, t1.jydfzkh erckh,\\\n",
    "           t2.jysj ercsj,t2.jyje ercje,t2.jydfmc sancmc,t2.jydfzkh sanckh,\\\n",
    "           t3.jysj sancsj,t3.jyje sancje,t3.jydfmc sicmc,t3.jydfzkh sickh,\\\n",
    "           t4.jysj sicsj,t4.jyje sicje,t4.jydfmc wucmc,t4.jydfzkh wuckh,\\\n",
    "           t5.jysj wucsj,t5.jyje wucje,t5.jydfmc liucmc,t5.jydfzkh liuckh\\\n",
    "             from \\\n",
    "            (select cxkh,jymc,jysj,jyje,jydfzkh,jydfmc,stamp_jysj from df_lianlu_chu_2016 where jymc=\"'+jymc+'\" )t1\\\n",
    "            left join\\\n",
    "            (select cxkh,jymc,jysj,jyje,jydfzkh,jydfmc,stamp_jysj from df_lianlu_chu_2016 )t2\\\n",
    "            on t1.jydfzkh=t2.cxkh and t2.jyje between t1.jyje*0.5 and t1.jyje*1.5 \\\n",
    "            and t2.stamp_jysj between t1.stamp_jysj and t1.stamp_jysj+172800 and t2.jydfzkh!=t1.cxkh and t2.jydfzkh!=t2.cxkh\\\n",
    "            left JOIN\\\n",
    "            (select cxkh,jymc,jysj,jyje,jydfzkh,jydfmc,stamp_jysj from df_lianlu_chu_2016  )t3\\\n",
    "            on t2.jydfzkh=t3.cxkh and t3.jyje between t2.jyje*0.5 and t2.jyje*1.5\\\n",
    "            and t3.stamp_jysj between t2.stamp_jysj and t2.stamp_jysj+172800  and t3.jydfzkh!=t1.cxkh and \\\n",
    "            t3.jydfzkh!=t2.cxkh and t3.jydfzkh!=t3.cxkh\\\n",
    "            left JOIN\\\n",
    "            (select cxkh,jymc,jysj,jyje,jydfzkh,jydfmc,stamp_jysj  from df_lianlu_chu_2016 )t4\\\n",
    "            on t3.jydfmc=t4.jymc and t4.jyje between t3.jyje*0.5 and t3.jyje*1.5\\\n",
    "            and t4.stamp_jysj between t3.stamp_jysj and t3.stamp_jysj+172800  and t4.jydfzkh=t1.cxkh and t4.jydfzkh!=t2.cxkh and t4.jydfzkh!=t3.cxkh and t4.jydfzkh!=t4.cxkh\\\n",
    "            left JOIN\\\n",
    "            (select cxkh,jymc,jysj,jyje,jydfzkh,jydfmc,stamp_jysj from df_lianlu_chu_2016 )t5\\\n",
    "            on t4.jydfmc=t5.jymc and t5.jyje between t4.jyje*0.5 and t4.jyje*1.5\\\n",
    "            and t5.stamp_jysj between t4.stamp_jysj and t4.stamp_jysj+172800  and t5.jydfzkh!=t1.cxkh and t5.jydfzkh!=t2.cxkh and  t5.jydfzkh!=t3.cxkh \\\n",
    "            and  t5.jydfzkh!=t4.cxkh and t5.jydfzkh!=t5.cxkh)t'\n",
    "    # 执行语句\n",
    "    couser.execute(sql)\n",
    "    rows = couser.fetchall()\n",
    "#     df_list.append(rows)\n",
    "    return rows"
   ]
  },
  {
   "cell_type": "code",
   "execution_count": 22,
   "metadata": {},
   "outputs": [
    {
     "name": "stdout",
     "output_type": "stream",
     "text": [
      "第---- 0 -----------个，总共 60 个\n",
      "第---- 1 -----------个，总共 60 个\n",
      "第---- 2 -----------个，总共 60 个\n",
      "第---- 3 -----------个，总共 60 个\n",
      "第---- 4 -----------个，总共 60 个\n",
      "第---- 5 -----------个，总共 60 个\n",
      "第---- 6 -----------个，总共 60 个\n",
      "第---- 7 -----------个，总共 60 个\n",
      "第---- 8 -----------个，总共 60 个\n",
      "第---- 9 -----------个，总共 60 个\n",
      "第---- 10 -----------个，总共 60 个\n",
      "第---- 11 -----------个，总共 60 个\n",
      "第---- 12 -----------个，总共 60 个\n",
      "第---- 13 -----------个，总共 60 个\n",
      "第---- 14 -----------个，总共 60 个\n",
      "第---- 15 -----------个，总共 60 个\n",
      "第---- 16 -----------个，总共 60 个\n",
      "第---- 17 -----------个，总共 60 个\n",
      "第---- 18 -----------个，总共 60 个\n",
      "第---- 19 -----------个，总共 60 个\n",
      "第---- 20 -----------个，总共 60 个\n",
      "第---- 21 -----------个，总共 60 个\n",
      "第---- 22 -----------个，总共 60 个\n",
      "第---- 23 -----------个，总共 60 个\n",
      "第---- 24 -----------个，总共 60 个\n",
      "第---- 25 -----------个，总共 60 个\n",
      "第---- 26 -----------个，总共 60 个\n",
      "第---- 27 -----------个，总共 60 个\n",
      "第---- 28 -----------个，总共 60 个\n",
      "第---- 29 -----------个，总共 60 个\n",
      "第---- 30 -----------个，总共 60 个\n",
      "第---- 31 -----------个，总共 60 个\n",
      "第---- 32 -----------个，总共 60 个\n",
      "第---- 33 -----------个，总共 60 个\n",
      "第---- 34 -----------个，总共 60 个\n",
      "第---- 35 -----------个，总共 60 个\n",
      "第---- 36 -----------个，总共 60 个\n",
      "第---- 37 -----------个，总共 60 个\n",
      "第---- 38 -----------个，总共 60 个\n",
      "第---- 39 -----------个，总共 60 个\n",
      "第---- 40 -----------个，总共 60 个\n",
      "第---- 41 -----------个，总共 60 个\n",
      "第---- 42 -----------个，总共 60 个\n",
      "第---- 43 -----------个，总共 60 个\n",
      "第---- 44 -----------个，总共 60 个\n",
      "第---- 45 -----------个，总共 60 个\n",
      "第---- 46 -----------个，总共 60 个\n",
      "第---- 47 -----------个，总共 60 个\n",
      "第---- 48 -----------个，总共 60 个\n",
      "第---- 49 -----------个，总共 60 个\n",
      "第---- 50 -----------个，总共 60 个\n",
      "第---- 51 -----------个，总共 60 个\n",
      "第---- 52 -----------个，总共 60 个\n",
      "第---- 53 -----------个，总共 60 个\n",
      "第---- 54 -----------个，总共 60 个\n",
      "第---- 55 -----------个，总共 60 个\n",
      "第---- 56 -----------个，总共 60 个\n",
      "第---- 57 -----------个，总共 60 个\n",
      "第---- 58 -----------个，总共 60 个\n",
      "第---- 59 -----------个，总共 60 个\n"
     ]
    }
   ],
   "source": [
    "df_list=[]\n",
    "for i in jymc_list:\n",
    "    print('第----',jymc_list.index(i),'-----------个，总共',len(jymc_list),'个')\n",
    "    df_list.append(select(i))\n",
    "    "
   ]
  },
  {
   "cell_type": "code",
   "execution_count": 23,
   "metadata": {},
   "outputs": [],
   "source": [
    "df1_list=[i for i in df_list if len(i)!=0]\n"
   ]
  },
  {
   "cell_type": "code",
   "execution_count": 6,
   "metadata": {},
   "outputs": [
    {
     "ename": "NameError",
     "evalue": "name 'df1_list' is not defined",
     "output_type": "error",
     "traceback": [
      "\u001b[1;31m---------------------------------------------------------------------------\u001b[0m",
      "\u001b[1;31mNameError\u001b[0m                                 Traceback (most recent call last)",
      "\u001b[1;32m<ipython-input-6-fcb046b38e74>\u001b[0m in \u001b[0;36m<module>\u001b[1;34m\u001b[0m\n\u001b[0;32m      1\u001b[0m \u001b[0mdf_data\u001b[0m\u001b[1;33m=\u001b[0m\u001b[1;33m[\u001b[0m\u001b[1;33m]\u001b[0m\u001b[1;33m\u001b[0m\u001b[1;33m\u001b[0m\u001b[0m\n\u001b[1;32m----> 2\u001b[1;33m \u001b[1;32mfor\u001b[0m \u001b[0mi\u001b[0m \u001b[1;32min\u001b[0m \u001b[0mdf1_list\u001b[0m\u001b[1;33m:\u001b[0m\u001b[1;33m\u001b[0m\u001b[1;33m\u001b[0m\u001b[0m\n\u001b[0m\u001b[0;32m      3\u001b[0m     \u001b[1;32mfor\u001b[0m \u001b[0mj\u001b[0m \u001b[1;32min\u001b[0m \u001b[0mi\u001b[0m\u001b[1;33m:\u001b[0m\u001b[1;33m\u001b[0m\u001b[1;33m\u001b[0m\u001b[0m\n\u001b[0;32m      4\u001b[0m         \u001b[0mdf_data\u001b[0m\u001b[1;33m.\u001b[0m\u001b[0mappend\u001b[0m\u001b[1;33m(\u001b[0m\u001b[0mj\u001b[0m\u001b[1;33m)\u001b[0m\u001b[1;33m\u001b[0m\u001b[1;33m\u001b[0m\u001b[0m\n",
      "\u001b[1;31mNameError\u001b[0m: name 'df1_list' is not defined"
     ]
    }
   ],
   "source": [
    "df_data=[]\n",
    "for i in df1_list:\n",
    "    for j in i:\n",
    "        df_data.append(j)"
   ]
  },
  {
   "cell_type": "code",
   "execution_count": 25,
   "metadata": {},
   "outputs": [],
   "source": [
    "import numpy as np\n",
    "import pandas as pd\n",
    "col=['yicmc','yiczh','yicsj','yicje','ercmc','erckh','ercsj','ercje','sancmc','sanckh','sancsj','sancje','sicmc','sickh','sicsj','sicje','wucmc','wuckh','wucsj','wucje','liucmc','liuckh']"
   ]
  },
  {
   "cell_type": "code",
   "execution_count": 5,
   "metadata": {},
   "outputs": [
    {
     "ename": "NameError",
     "evalue": "name 'df_data' is not defined",
     "output_type": "error",
     "traceback": [
      "\u001b[1;31m---------------------------------------------------------------------------\u001b[0m",
      "\u001b[1;31mNameError\u001b[0m                                 Traceback (most recent call last)",
      "\u001b[1;32m<ipython-input-5-71d0d38987d5>\u001b[0m in \u001b[0;36m<module>\u001b[1;34m\u001b[0m\n\u001b[1;32m----> 1\u001b[1;33m \u001b[0mdd\u001b[0m\u001b[1;33m=\u001b[0m\u001b[0mpd\u001b[0m\u001b[1;33m.\u001b[0m\u001b[0mDataFrame\u001b[0m\u001b[1;33m(\u001b[0m\u001b[0mnp\u001b[0m\u001b[1;33m.\u001b[0m\u001b[0marray\u001b[0m\u001b[1;33m(\u001b[0m\u001b[0mdf_data\u001b[0m\u001b[1;33m)\u001b[0m\u001b[1;33m,\u001b[0m\u001b[0mcolumns\u001b[0m\u001b[1;33m=\u001b[0m\u001b[0mcol\u001b[0m\u001b[1;33m)\u001b[0m\u001b[1;33m\u001b[0m\u001b[1;33m\u001b[0m\u001b[0m\n\u001b[0m\u001b[0;32m      2\u001b[0m \u001b[0mdd\u001b[0m\u001b[1;33m\u001b[0m\u001b[1;33m\u001b[0m\u001b[0m\n",
      "\u001b[1;31mNameError\u001b[0m: name 'df_data' is not defined"
     ]
    }
   ],
   "source": [
    "dd=pd.DataFrame(np.array(df_data),columns=col)\n",
    "dd"
   ]
  }
 ],
 "metadata": {
  "kernelspec": {
   "display_name": "Python 3",
   "language": "python",
   "name": "python3"
  },
  "language_info": {
   "codemirror_mode": {
    "name": "ipython",
    "version": 3
   },
   "file_extension": ".py",
   "mimetype": "text/x-python",
   "name": "python",
   "nbconvert_exporter": "python",
   "pygments_lexer": "ipython3",
   "version": "3.7.3"
  }
 },
 "nbformat": 4,
 "nbformat_minor": 2
}
