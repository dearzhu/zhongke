{
 "cells": [
  {
   "cell_type": "code",
   "execution_count": 127,
   "metadata": {},
   "outputs": [],
   "source": [
    "import pandas as pd\n",
    "import numpy as np\n",
    "path='/home/zhu/Desktop/sjh/批量查询结果_2020033115514758972405(1).xlsx'\n"
   ]
  },
  {
   "cell_type": "code",
   "execution_count": 131,
   "metadata": {},
   "outputs": [
    {
     "name": "stdout",
     "output_type": "stream",
     "text": [
      "正在梳理第0个卡号\n",
      "正在梳理第1个卡号\n",
      "正在梳理第2个卡号\n",
      "正在梳理第3个卡号\n",
      "正在梳理第4个卡号\n",
      "正在梳理第5个卡号\n"
     ]
    },
    {
     "name": "stderr",
     "output_type": "stream",
     "text": [
      "/home/zhu/anaconda3/lib/python3.7/site-packages/ipykernel_launcher.py:26: SettingWithCopyWarning: \n",
      "A value is trying to be set on a copy of a slice from a DataFrame.\n",
      "Try using .loc[row_indexer,col_indexer] = value instead\n",
      "\n",
      "See the caveats in the documentation: http://pandas.pydata.org/pandas-docs/stable/indexing.html#indexing-view-versus-copy\n",
      "/home/zhu/anaconda3/lib/python3.7/site-packages/ipykernel_launcher.py:27: SettingWithCopyWarning: \n",
      "A value is trying to be set on a copy of a slice from a DataFrame.\n",
      "Try using .loc[row_indexer,col_indexer] = value instead\n",
      "\n",
      "See the caveats in the documentation: http://pandas.pydata.org/pandas-docs/stable/indexing.html#indexing-view-versus-copy\n"
     ]
    },
    {
     "name": "stdout",
     "output_type": "stream",
     "text": [
      "正在梳理第6个卡号\n",
      "正在梳理第7个卡号\n",
      "正在梳理第8个卡号\n",
      "正在梳理第9个卡号\n",
      "正在梳理第10个卡号\n",
      "正在梳理第11个卡号\n",
      "正在梳理第12个卡号\n",
      "正在梳理第13个卡号\n",
      "正在梳理第14个卡号\n",
      "正在梳理第15个卡号\n",
      "正在梳理第16个卡号\n",
      "正在梳理第17个卡号\n",
      "正在梳理第18个卡号\n",
      "正在梳理第19个卡号\n",
      "正在梳理第20个卡号\n",
      "正在梳理第21个卡号\n",
      "正在梳理第22个卡号\n",
      "正在梳理第23个卡号\n",
      "正在梳理第24个卡号\n",
      "正在梳理第25个卡号\n",
      "正在梳理第26个卡号\n",
      "正在梳理第27个卡号\n",
      "正在梳理第28个卡号\n",
      "正在梳理第29个卡号\n",
      "正在梳理第30个卡号\n",
      "正在梳理第31个卡号\n",
      "正在梳理第32个卡号\n",
      "正在梳理第33个卡号\n",
      "正在梳理第34个卡号\n",
      "正在梳理第35个卡号\n",
      "正在梳理第36个卡号\n",
      "正在梳理第37个卡号\n",
      "正在梳理第38个卡号\n",
      "正在梳理第39个卡号\n",
      "正在梳理第40个卡号\n",
      "正在梳理第41个卡号\n",
      "正在梳理第42个卡号\n",
      "正在梳理第43个卡号\n",
      "正在梳理第44个卡号\n",
      "正在梳理第45个卡号\n",
      "正在梳理第46个卡号\n",
      "正在梳理第47个卡号\n",
      "正在梳理第48个卡号\n",
      "正在梳理第49个卡号\n",
      "正在梳理第50个卡号\n",
      "正在梳理第51个卡号\n",
      "正在梳理第52个卡号\n",
      "正在梳理第53个卡号\n",
      "正在梳理第54个卡号\n",
      "正在梳理第55个卡号\n",
      "正在梳理第56个卡号\n",
      "正在梳理第57个卡号\n"
     ]
    }
   ],
   "source": [
    "#判断根据标记添加交易金额\n",
    "def jyje_judge(jffse,dffse,jdbz):\n",
    "    if jdbz=='进':\n",
    "        return dffse\n",
    "    else :\n",
    "        return jffse\n",
    "    \n",
    "def read_CBC_data(path,sheetname):\n",
    "    df_list=[]\n",
    "    #读取数据\n",
    "    df=pd.read_excel(path,sheet_name=sheetname)\n",
    "    #获取字段名字,一般情况下是第一个,合并单元格为第一个元素\n",
    "    df_columns=df.columns\n",
    "    #获取满足查询条件的索引,获取查询卡号\n",
    "    select_cxkh_list=df[df[df_columns[0]].str.contains('根据查询条件')==True].index\n",
    "    #获取满足客户名称的索引,获取查询卡号\n",
    "    select_jymc_list=df[df[df_columns[0]].str.contains('客户名称')==True].index\n",
    "    #分批次截取数据\n",
    "    for i in range(0,len(select_cxkh_list)):\n",
    "        print('正在梳理第{}个卡号'.format(i))\n",
    "        if select_cxkh_list[i]==max(select_cxkh_list):\n",
    "            #当到达最后一个索引时,直接截取最后一个索引到结束数据\n",
    "            df_select=df[select_cxkh_list[i]:df.shape[0]]\n",
    "        else:\n",
    "            #当索引在select_cxkh_list中时,截取当前两个索引之间的数据\n",
    "            df_select=df[select_cxkh_list[i]:select_cxkh_list[i+1]]\n",
    "        #客户名称\n",
    "        df_select['jymc']=df[df.columns[0]][select_jymc_list[i]].split(\"，\")[0].split(':')[1]\n",
    "        #卡号\n",
    "        df_select['cxkh']=df[df.columns[0]][select_cxkh_list[i]].split(':')[1].split(\" \")[0]\n",
    "        df_list.append(df_select)\n",
    "    #数据合并\n",
    "    df_fin=pd.concat(df_list,axis=0)\n",
    "    #部分不合规数据删除,因为拆分数据时,部分数据有部分空行\n",
    "    #设置表头字段\n",
    "    df_fin.columns=df_fin[df_fin[df_fin.columns[0]].str.contains('交易日期')==True].iloc[1]\n",
    "    #删除其中多个和表头一样的字段及其他数据\n",
    "    df_fin=df_fin[df_fin[df_fin.columns[0]].str.contains('根据查询条件|客户名称|个人活期|交易日期')==False]\n",
    "    df_fin['借贷标记']=df_fin['贷方发生额'].apply(lambda x: '出' if x==0 else '进')\n",
    "    df_fin['交易发生额']=df_fin.apply(lambda x: jyje_judge(x['借方发生额'],x['贷方发生额'],x['借贷标记']),axis=1)    \n",
    "    \n",
    "    return df_fin\n",
    "\n",
    "df=read_CBC_data(path,'个人活期明细信息-新一代')"
   ]
  },
  {
   "cell_type": "code",
   "execution_count": 132,
   "metadata": {},
   "outputs": [],
   "source": [
    "df.to_excel('/home/zhu/Desktop/test6.xlsx',encoding='utf-8',index=False)"
   ]
  },
  {
   "cell_type": "code",
   "execution_count": null,
   "metadata": {},
   "outputs": [],
   "source": []
  }
 ],
 "metadata": {
  "kernelspec": {
   "display_name": "Python 3",
   "language": "python",
   "name": "python3"
  },
  "language_info": {
   "codemirror_mode": {
    "name": "ipython",
    "version": 3
   },
   "file_extension": ".py",
   "mimetype": "text/x-python",
   "name": "python",
   "nbconvert_exporter": "python",
   "pygments_lexer": "ipython3",
   "version": "3.7.6"
  }
 },
 "nbformat": 4,
 "nbformat_minor": 2
}
