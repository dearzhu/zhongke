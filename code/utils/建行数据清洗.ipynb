{
 "cells": [
  {
   "cell_type": "code",
   "execution_count": 129,
   "metadata": {},
   "outputs": [],
   "source": [
    "import pandas as pd\n",
    "import numpy as np\n",
    "path=r''\n"
   ]
  },
  {
   "cell_type": "code",
   "execution_count": 130,
   "metadata": {},
   "outputs": [],
   "source": [
    "#判断根据标记添加交易金额\n",
    "def jyje_judge(jffse,dffse,jdbz):\n",
    "    if jdbz=='进':\n",
    "        return dffse\n",
    "    else :\n",
    "        return jffse\n",
    "    "
   ]
  },
  {
   "cell_type": "code",
   "execution_count": 153,
   "metadata": {},
   "outputs": [],
   "source": [
    "def read_data(path,table_name):\n",
    "    df=pd.read_excel(path,sheet_name=table_name,header=None)\n",
    "    df_columns=df.columns\n",
    "    #获取满足客户名称的索引,\n",
    "    select_jymc_list=df[df[df_columns[0]].str.contains('客户名称')==True].index\n",
    "    print(\"select_jymc_list\",select_jymc_list)\n",
    "    #分批次截取数据\n",
    "    df_list=[]\n",
    "    for i in range(0,len(select_jymc_list)):\n",
    "        print('正在梳理第{}个客户'.format(i),select_jymc_list[i])\n",
    "        if select_jymc_list[i]==max(select_jymc_list):\n",
    "            #当到达最后一个索引时,直接截取最后一个索引到结束数据\n",
    "            df_select=df[select_jymc_list[i]:df.shape[0]]\n",
    "        else:\n",
    "            #当索引在select_cxkh_list中时,截取当前两个索引之间的数据\n",
    "            df_select=df[select_jymc_list[i]:select_jymc_list[i+1]]\n",
    "        #客户名称\n",
    "        df_select['jymc']=df[df.columns[0]][select_jymc_list[i]]\n",
    "\n",
    "        df_list.append(df_select)\n",
    "    df_fin=pd.concat(df_list,axis=0)\n",
    "    df_fin.columns=df_fin[df_fin[df_fin.columns[0]].str.contains('交易日期')==True].iloc[1]\n",
    "    #删除其中多个和表头一样的字段及其他数据\n",
    "    df_fin=df_fin[df_fin[df_fin.columns[0]].str.contains('根据查询条件|客户名称|个人活期|交易日期|查无结果|个人|失败')==False]\n",
    "    df_col=df_fin.columns\n",
    "    # 字段重命名？\n",
    "    df_fin=df_fin.rename(columns={df_col[len(df_col)-1]:'khxx'})\n",
    "    return df_fin\n",
    "        \n",
    "\n"
   ]
  },
  {
   "cell_type": "code",
   "execution_count": 157,
   "metadata": {},
   "outputs": [
    {
     "name": "stdout",
     "output_type": "stream",
     "text": [
      "select_jymc_list Int64Index([  0,   8,  17,  23,  29,  35,  44,  50,  71,  77,  92,  98, 104,\n",
      "            110, 116, 122, 137, 200, 209, 218, 224, 233, 256, 264, 269, 274,\n",
      "            279],\n",
      "           dtype='int64')\n",
      "正在梳理第0个客户 0\n",
      "正在梳理第1个客户 8\n",
      "正在梳理第2个客户 17\n",
      "正在梳理第3个客户 23\n",
      "正在梳理第4个客户 29\n",
      "正在梳理第5个客户 35\n",
      "正在梳理第6个客户 44\n",
      "正在梳理第7个客户 50\n",
      "正在梳理第8个客户 71\n",
      "正在梳理第9个客户 77\n",
      "正在梳理第10个客户 92\n",
      "正在梳理第11个客户 98\n",
      "正在梳理第12个客户 104\n",
      "正在梳理第13个客户 110\n",
      "正在梳理第14个客户 116\n",
      "正在梳理第15个客户 122\n",
      "正在梳理第16个客户 137\n",
      "正在梳理第17个客户 200\n",
      "正在梳理第18个客户 209\n",
      "正在梳理第19个客户 218\n",
      "正在梳理第20个客户 224\n",
      "正在梳理第21个客户 233\n",
      "正在梳理第22个客户 256\n",
      "正在梳理第23个客户 264\n",
      "正在梳理第24个客户 269\n",
      "正在梳理第25个客户 274\n",
      "正在梳理第26个客户 279\n"
     ]
    },
    {
     "name": "stderr",
     "output_type": "stream",
     "text": [
      "D:\\develop\\anaconda\\lib\\site-packages\\ipykernel_launcher.py:18: SettingWithCopyWarning: \n",
      "A value is trying to be set on a copy of a slice from a DataFrame.\n",
      "Try using .loc[row_indexer,col_indexer] = value instead\n",
      "\n",
      "See the caveats in the documentation: https://pandas.pydata.org/pandas-docs/stable/user_guide/indexing.html#returning-a-view-versus-a-copy\n"
     ]
    },
    {
     "name": "stdout",
     "output_type": "stream",
     "text": [
      "select_jymc_list Int64Index([    2,   141,  2301,  2314,  3396,  3405,  3423,  3438,  3607,\n",
      "             4132,  4159,  4172,  4219,  4257,  4339,  8406,  8424, 11043,\n",
      "            11059, 11349, 11360, 11383, 11391, 14913, 15242, 15285, 15304,\n",
      "            15313, 20634, 20707, 20809, 20982, 21045, 21091, 21130, 21142,\n",
      "            21154, 21181, 21196, 21206],\n",
      "           dtype='int64')\n",
      "正在梳理第0个客户 2\n",
      "正在梳理第1个客户 141\n",
      "正在梳理第2个客户 2301\n",
      "正在梳理第3个客户 2314\n",
      "正在梳理第4个客户 3396\n",
      "正在梳理第5个客户 3405\n",
      "正在梳理第6个客户 3423\n",
      "正在梳理第7个客户 3438\n",
      "正在梳理第8个客户 3607\n",
      "正在梳理第9个客户 4132\n",
      "正在梳理第10个客户 4159\n",
      "正在梳理第11个客户 4172\n",
      "正在梳理第12个客户 4219\n",
      "正在梳理第13个客户 4257\n",
      "正在梳理第14个客户 4339\n",
      "正在梳理第15个客户 8406\n",
      "正在梳理第16个客户 8424\n",
      "正在梳理第17个客户 11043\n",
      "正在梳理第18个客户 11059\n",
      "正在梳理第19个客户 11349\n",
      "正在梳理第20个客户 11360\n",
      "正在梳理第21个客户 11383\n",
      "正在梳理第22个客户 11391\n",
      "正在梳理第23个客户 14913\n",
      "正在梳理第24个客户 15242\n",
      "正在梳理第25个客户 15285\n",
      "正在梳理第26个客户 15304\n",
      "正在梳理第27个客户 15313\n",
      "正在梳理第28个客户 20634\n",
      "正在梳理第29个客户 20707\n",
      "正在梳理第30个客户 20809\n",
      "正在梳理第31个客户 20982\n",
      "正在梳理第32个客户 21045\n",
      "正在梳理第33个客户 21091\n",
      "正在梳理第34个客户 21130\n",
      "正在梳理第35个客户 21142\n",
      "正在梳理第36个客户 21154\n",
      "正在梳理第37个客户 21181\n",
      "正在梳理第38个客户 21196\n",
      "正在梳理第39个客户 21206\n"
     ]
    }
   ],
   "source": [
    "df_dq=read_data(path,\"个人定期明细信息-新一代\")\n",
    "df_hq=read_data(path,\"个人活期明细信息-新一代\")"
   ]
  },
  {
   "cell_type": "code",
   "execution_count": 159,
   "metadata": {},
   "outputs": [
    {
     "data": {
      "text/plain": [
       "((209, 16), (21234, 19))"
      ]
     },
     "execution_count": 159,
     "metadata": {},
     "output_type": "execute_result"
    }
   ],
   "source": [
    "df_dq.shape,df_hq.shape"
   ]
  },
  {
   "cell_type": "code",
   "execution_count": 161,
   "metadata": {},
   "outputs": [],
   "source": [
    "#定期数据处理\n",
    "def deal_dq_data(data):\n",
    "    data['客户名称']=data['khxx'].apply(lambda x:x.split(\"，\")[0].replace(\"客户名称:\",\"\"))\n",
    "    data['交易账号']=data['khxx'].apply(lambda x:x.split(\"，\")[2].replace(\"客户账号:\",\"\"))\n",
    "    data['交易卡号_1']=data['khxx'].apply(lambda x:x.split(\"，\")[3].replace(\"一本通账号或卡号:\",\"\"))\n",
    "    data['交易卡号_1']=data.apply(lambda x:x['交易账号'] if x['交易卡号_1']==\"\" else x['交易卡号_1'],axis=1)\n",
    "\n",
    "    return data\n",
    "# 活期数据处理\n",
    "def deal_hq_data(data):\n",
    "    data['jymc']=data['khxx'].apply(lambda x : x.split(\"，\")[0].replace(\"客户名称:\",\"\"))\n",
    "    data['cxzh']=data['khxx'].apply(lambda x : x.split(\"，\")[2].replace(\"客户账号:\",\"\"))\n",
    "    data['cxkh']=data['khxx'].apply(lambda x : x.split(\"，\")[3].replace(\"卡号:\",\"\"))\n",
    "    data['借贷标记']=data['贷方发生额'].apply(lambda x: '出' if x==0 else '进')\n",
    "    data['交易发生额']=data.apply(lambda x: jyje_judge(x['借方发生额'],x['贷方发生额'],x['借贷标记']),axis=1)\n",
    "    data['cxkh']=data.apply(lambda x:  x['cxzh'] if x['cxkh']==''   else x['cxkh'] ,axis=1)\n",
    "    return data\n",
    "    \n",
    "    \n"
   ]
  },
  {
   "cell_type": "code",
   "execution_count": 162,
   "metadata": {},
   "outputs": [
    {
     "data": {
      "text/plain": [
       "((209, 19), (21234, 24))"
      ]
     },
     "execution_count": 162,
     "metadata": {},
     "output_type": "execute_result"
    }
   ],
   "source": [
    "df_dq=deal_dq_data(df_dq)\n",
    "df_hq=deal_hq_data(df_hq)\n",
    "df_dq.shape,df_hq.shape"
   ]
  },
  {
   "cell_type": "code",
   "execution_count": 163,
   "metadata": {},
   "outputs": [
    {
     "data": {
      "text/html": [
       "<div>\n",
       "<style scoped>\n",
       "    .dataframe tbody tr th:only-of-type {\n",
       "        vertical-align: middle;\n",
       "    }\n",
       "\n",
       "    .dataframe tbody tr th {\n",
       "        vertical-align: top;\n",
       "    }\n",
       "\n",
       "    .dataframe thead th {\n",
       "        text-align: right;\n",
       "    }\n",
       "</style>\n",
       "<table border=\"1\" class=\"dataframe\">\n",
       "  <thead>\n",
       "    <tr style=\"text-align: right;\">\n",
       "      <th></th>\n",
       "      <th></th>\n",
       "      <th>交易日期</th>\n",
       "    </tr>\n",
       "    <tr>\n",
       "      <th>客户名称</th>\n",
       "      <th>交易账号</th>\n",
       "      <th></th>\n",
       "    </tr>\n",
       "  </thead>\n",
       "  <tbody>\n",
       "    <tr>\n",
       "      <th>刘艳军</th>\n",
       "      <th>0335010151130075178</th>\n",
       "      <td>4</td>\n",
       "    </tr>\n",
       "    <tr>\n",
       "      <th rowspan=\"4\" valign=\"top\">刘艳辉</th>\n",
       "      <th>0335030151130337335</th>\n",
       "      <td>3</td>\n",
       "    </tr>\n",
       "    <tr>\n",
       "      <th>0335030151130337343</th>\n",
       "      <td>3</td>\n",
       "    </tr>\n",
       "    <tr>\n",
       "      <th>0335030151130337350</th>\n",
       "      <td>3</td>\n",
       "    </tr>\n",
       "    <tr>\n",
       "      <th>0335030151130337368</th>\n",
       "      <td>3</td>\n",
       "    </tr>\n",
       "    <tr>\n",
       "      <th rowspan=\"21\" valign=\"top\">朱耀峰</th>\n",
       "      <th>0335010151130164238</th>\n",
       "      <td>7</td>\n",
       "    </tr>\n",
       "    <tr>\n",
       "      <th>0335010151130184384</th>\n",
       "      <td>4</td>\n",
       "    </tr>\n",
       "    <tr>\n",
       "      <th>0335010151130186223</th>\n",
       "      <td>4</td>\n",
       "    </tr>\n",
       "    <tr>\n",
       "      <th>0335010151130189227</th>\n",
       "      <td>4</td>\n",
       "    </tr>\n",
       "    <tr>\n",
       "      <th>0335010151130190902</th>\n",
       "      <td>7</td>\n",
       "    </tr>\n",
       "    <tr>\n",
       "      <th>0335010151130194656</th>\n",
       "      <td>4</td>\n",
       "    </tr>\n",
       "    <tr>\n",
       "      <th>0335010151130196339</th>\n",
       "      <td>19</td>\n",
       "    </tr>\n",
       "    <tr>\n",
       "      <th>0335010151130199655</th>\n",
       "      <td>4</td>\n",
       "    </tr>\n",
       "    <tr>\n",
       "      <th>0335010151130203655</th>\n",
       "      <td>13</td>\n",
       "    </tr>\n",
       "    <tr>\n",
       "      <th>0335010151130204893</th>\n",
       "      <td>4</td>\n",
       "    </tr>\n",
       "    <tr>\n",
       "      <th>0335010151130215642</th>\n",
       "      <td>4</td>\n",
       "    </tr>\n",
       "    <tr>\n",
       "      <th>0335010151130226995</th>\n",
       "      <td>4</td>\n",
       "    </tr>\n",
       "    <tr>\n",
       "      <th>0335010151130230740</th>\n",
       "      <td>4</td>\n",
       "    </tr>\n",
       "    <tr>\n",
       "      <th>0335010151130235590</th>\n",
       "      <td>4</td>\n",
       "    </tr>\n",
       "    <tr>\n",
       "      <th>0335010151130240103</th>\n",
       "      <td>13</td>\n",
       "    </tr>\n",
       "    <tr>\n",
       "      <th>0335010151130245748</th>\n",
       "      <td>61</td>\n",
       "    </tr>\n",
       "    <tr>\n",
       "      <th>0335010151130279127</th>\n",
       "      <td>7</td>\n",
       "    </tr>\n",
       "    <tr>\n",
       "      <th>0335010151130282485</th>\n",
       "      <td>7</td>\n",
       "    </tr>\n",
       "    <tr>\n",
       "      <th>0335010151130285355</th>\n",
       "      <td>4</td>\n",
       "    </tr>\n",
       "    <tr>\n",
       "      <th>0335010151130290785</th>\n",
       "      <td>7</td>\n",
       "    </tr>\n",
       "    <tr>\n",
       "      <th>0335010151130297053</th>\n",
       "      <td>4</td>\n",
       "    </tr>\n",
       "    <tr>\n",
       "      <th>赵鹏丽</th>\n",
       "      <th>0335030151130397933</th>\n",
       "      <td>4</td>\n",
       "    </tr>\n",
       "  </tbody>\n",
       "</table>\n",
       "</div>"
      ],
      "text/plain": [
       "                          交易日期\n",
       "客户名称 交易账号                     \n",
       "刘艳军  0335010151130075178     4\n",
       "刘艳辉  0335030151130337335     3\n",
       "     0335030151130337343     3\n",
       "     0335030151130337350     3\n",
       "     0335030151130337368     3\n",
       "朱耀峰  0335010151130164238     7\n",
       "     0335010151130184384     4\n",
       "     0335010151130186223     4\n",
       "     0335010151130189227     4\n",
       "     0335010151130190902     7\n",
       "     0335010151130194656     4\n",
       "     0335010151130196339    19\n",
       "     0335010151130199655     4\n",
       "     0335010151130203655    13\n",
       "     0335010151130204893     4\n",
       "     0335010151130215642     4\n",
       "     0335010151130226995     4\n",
       "     0335010151130230740     4\n",
       "     0335010151130235590     4\n",
       "     0335010151130240103    13\n",
       "     0335010151130245748    61\n",
       "     0335010151130279127     7\n",
       "     0335010151130282485     7\n",
       "     0335010151130285355     4\n",
       "     0335010151130290785     7\n",
       "     0335010151130297053     4\n",
       "赵鹏丽  0335030151130397933     4"
      ]
     },
     "execution_count": 163,
     "metadata": {},
     "output_type": "execute_result"
    }
   ],
   "source": [
    "pd.pivot_table(df_dq,index=['客户名称','交易账号'],values=['交易日期'],aggfunc=len)"
   ]
  },
  {
   "cell_type": "code",
   "execution_count": 144,
   "metadata": {},
   "outputs": [
    {
     "data": {
      "text/plain": [
       "{'刘艳军', '刘艳辉', '朱耀峰'}"
      ]
     },
     "execution_count": 144,
     "metadata": {},
     "output_type": "execute_result"
    }
   ],
   "source": [
    "set(df_dq['客户名称'])"
   ]
  }
 ],
 "metadata": {
  "kernelspec": {
   "display_name": "Python 3",
   "language": "python",
   "name": "python3"
  },
  "language_info": {
   "codemirror_mode": {
    "name": "ipython",
    "version": 3
   },
   "file_extension": ".py",
   "mimetype": "text/x-python",
   "name": "python",
   "nbconvert_exporter": "python",
   "pygments_lexer": "ipython3",
   "version": "3.7.6"
  }
 },
 "nbformat": 4,
 "nbformat_minor": 4
}
