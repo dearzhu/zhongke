{
 "cells": [
  {
   "cell_type": "code",
   "execution_count": 1,
   "metadata": {},
   "outputs": [],
   "source": [
    "import pandas as pd\n",
    "from sqlalchemy import create_engine  "
   ]
  },
  {
   "cell_type": "code",
   "execution_count": 2,
   "metadata": {},
   "outputs": [],
   "source": [
    "path='c://Users/jxh/Desktop/总数据_1.xlsx'\n",
    "df=pd.read_excel(path,dtype=object )"
   ]
  },
  {
   "cell_type": "code",
   "execution_count": 8,
   "metadata": {},
   "outputs": [
    {
     "data": {
      "text/plain": [
       "((975875, 19), (100, 19))"
      ]
     },
     "execution_count": 8,
     "metadata": {},
     "output_type": "execute_result"
    }
   ],
   "source": [
    "df2=df[0:100]\n",
    "df.shape,df2.shape"
   ]
  },
  {
   "cell_type": "code",
   "execution_count": 19,
   "metadata": {},
   "outputs": [
    {
     "data": {
      "text/plain": [
       "Index(['\\t交易卡号', '\\t交易账号', '\\t交易方户名', '\\t交易方证件号', '\\t交易账户开户银行', '\\t交易时间',\n",
       "       '\\t交易金额', '\\t交易余额', '\\t交易币种', '\\t借贷标志', '\\t对手账号', '\\t对手户名', '\\t对手证件号',\n",
       "       '\\t对手账户开户银行', '\\t对手交易余额', '\\t摘要说明', '\\t备注', '\\tIP地址', '\\tMAC地址'],\n",
       "      dtype='object')"
      ]
     },
     "execution_count": 19,
     "metadata": {},
     "output_type": "execute_result"
    }
   ],
   "source": [
    "df.columns"
   ]
  },
  {
   "cell_type": "code",
   "execution_count": 20,
   "metadata": {},
   "outputs": [],
   "source": [
    "df.columns=['cxkh','jyzh','jymc','jyzjhm','jyzhkhh','jysj','jyje','jyye','jybz','jdbz','jydfzkh','jydfmc','jydfzjhm','jydfzhkhh','dsjyye','zysm','beiz','ip','mac']"
   ]
  },
  {
   "cell_type": "code",
   "execution_count": 26,
   "metadata": {},
   "outputs": [
    {
     "name": "stdout",
     "output_type": "stream",
     "text": [
      "cxkh\n",
      "jyzh\n",
      "jymc\n",
      "jyzjhm\n",
      "jyzhkhh\n",
      "jysj\n",
      "jyje\n",
      "jyye\n",
      "jybz\n",
      "jdbz\n",
      "jydfzkh\n",
      "jydfmc\n",
      "jydfzjhm\n",
      "jydfzhkhh\n",
      "dsjyye\n",
      "zysm\n",
      "beiz\n",
      "ip\n",
      "mac\n"
     ]
    }
   ],
   "source": [
    "for column in df.columns:\n",
    "    print(column)\n",
    "    df[column]=df[column].apply(lambda x : str(x).replace(\"\\t\",\"\"))"
   ]
  },
  {
   "cell_type": "code",
   "execution_count": 29,
   "metadata": {},
   "outputs": [
    {
     "data": {
      "text/plain": [
       "cxkh         object\n",
       "jyzh         object\n",
       "jymc         object\n",
       "jyzjhm       object\n",
       "jyzhkhh      object\n",
       "jysj         object\n",
       "jyje         object\n",
       "jyye         object\n",
       "jybz         object\n",
       "jdbz         object\n",
       "jydfzkh      object\n",
       "jydfmc       object\n",
       "jydfzjhm     object\n",
       "jydfzhkhh    object\n",
       "dsjyye       object\n",
       "zysm         object\n",
       "beiz         object\n",
       "ip           object\n",
       "mac          object\n",
       "dtype: object"
      ]
     },
     "execution_count": 29,
     "metadata": {},
     "output_type": "execute_result"
    }
   ],
   "source": [
    "df.dtypes"
   ]
  },
  {
   "cell_type": "code",
   "execution_count": 30,
   "metadata": {},
   "outputs": [
    {
     "name": "stderr",
     "output_type": "stream",
     "text": [
      "D:\\develop\\anaconda\\lib\\site-packages\\ipykernel_launcher.py:2: DeprecationWarning: time.clock has been deprecated in Python 3.3 and will be removed from Python 3.8: use time.perf_counter or time.process_time instead\n",
      "  \n",
      "D:\\develop\\anaconda\\lib\\site-packages\\pymysql\\cursors.py:170: Warning: (3719, \"'utf8' is currently an alias for the character set UTF8MB3, but will be an alias for UTF8MB4 in a future release. Please consider using UTF8MB4 in order to be unambiguous.\")\n",
      "  result = self._query(query)\n",
      "D:\\develop\\anaconda\\lib\\site-packages\\pymysql\\cursors.py:170: Warning: (1366, \"Incorrect string value: '\\\\xD6\\\\xD0\\\\xB9\\\\xFA\\\\xB1\\\\xEA...' for column 'VARIABLE_VALUE' at row 1\")\n",
      "  result = self._query(query)\n"
     ]
    },
    {
     "name": "stdout",
     "output_type": "stream",
     "text": [
      "82.62921419999998\n"
     ]
    },
    {
     "name": "stderr",
     "output_type": "stream",
     "text": [
      "D:\\develop\\anaconda\\lib\\site-packages\\ipykernel_launcher.py:7: DeprecationWarning: time.clock has been deprecated in Python 3.3 and will be removed from Python 3.8: use time.perf_counter or time.process_time instead\n",
      "  import sys\n"
     ]
    }
   ],
   "source": [
    "import time \n",
    "t1=time.clock()\n",
    "engine = create_engine(\"mysql+pymysql://{}:{}@{}/{}?charset={}\".format('root', '521521', '127.0.0.1:3306', 'test','utf8'))\n",
    "\n",
    "\n",
    "df.to_sql('gas_bank_records',con=engine,if_exists='replace',index=False)  \n",
    "t2=time.clock()\n",
    "print(t2-t1)"
   ]
  },
  {
   "cell_type": "code",
   "execution_count": 34,
   "metadata": {},
   "outputs": [
    {
     "data": {
      "text/plain": [
       "(5, 33)"
      ]
     },
     "execution_count": 34,
     "metadata": {},
     "output_type": "execute_result"
    }
   ],
   "source": [
    "df2=pd.read_csv('c:/Users/jxh/Desktop/资金交易明细20200415115547_1.csv',encoding='gbk')\n",
    "df2.head().shape"
   ]
  },
  {
   "cell_type": "code",
   "execution_count": 35,
   "metadata": {},
   "outputs": [],
   "source": [
    "df2.to_sql('test12',con=engine,if_exists='replace',index=False)  \n"
   ]
  }
 ],
 "metadata": {
  "kernelspec": {
   "display_name": "Python 3",
   "language": "python",
   "name": "python3"
  },
  "language_info": {
   "codemirror_mode": {
    "name": "ipython",
    "version": 3
   },
   "file_extension": ".py",
   "mimetype": "text/x-python",
   "name": "python",
   "nbconvert_exporter": "python",
   "pygments_lexer": "ipython3",
   "version": "3.7.6"
  }
 },
 "nbformat": 4,
 "nbformat_minor": 4
}
